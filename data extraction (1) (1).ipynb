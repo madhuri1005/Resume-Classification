{
 "cells": [
  {
   "cell_type": "code",
   "execution_count": 1,
   "metadata": {
    "colab": {
     "base_uri": "https://localhost:8080/"
    },
    "executionInfo": {
     "elapsed": 30337,
     "status": "ok",
     "timestamp": 1667401274118,
     "user": {
      "displayName": "Veeraj B",
      "userId": "00452043461591096215"
     },
     "user_tz": -330
    },
    "id": "KMGCpXmHpW4u",
    "outputId": "6cbe42ab-9b76-439d-92eb-309e97efe677"
   },
   "outputs": [
    {
     "name": "stdout",
     "output_type": "stream",
     "text": [
      "Looking in indexes: https://pypi.org/simple, https://us-python.pkg.dev/colab-wheels/public/simple/\n",
      "Collecting python-docx\n",
      "  Downloading python-docx-0.8.11.tar.gz (5.6 MB)\n",
      "\u001b[K     |████████████████████████████████| 5.6 MB 9.4 MB/s \n",
      "\u001b[?25hRequirement already satisfied: lxml>=2.3.2 in /usr/local/lib/python3.7/dist-packages (from python-docx) (4.9.1)\n",
      "Building wheels for collected packages: python-docx\n",
      "  Building wheel for python-docx (setup.py) ... \u001b[?25l\u001b[?25hdone\n",
      "  Created wheel for python-docx: filename=python_docx-0.8.11-py3-none-any.whl size=184507 sha256=bccdc701a76c21e66b0afa575556db2b4109a8faea86e6623391ede646982837\n",
      "  Stored in directory: /root/.cache/pip/wheels/f6/6f/b9/d798122a8b55b74ad30b5f52b01482169b445fbb84a11797a6\n",
      "Successfully built python-docx\n",
      "Installing collected packages: python-docx\n",
      "Successfully installed python-docx-0.8.11\n",
      "Looking in indexes: https://pypi.org/simple, https://us-python.pkg.dev/colab-wheels/public/simple/\n",
      "Collecting docx\n",
      "  Downloading docx-0.2.4.tar.gz (54 kB)\n",
      "\u001b[K     |████████████████████████████████| 54 kB 2.8 MB/s \n",
      "\u001b[?25hRequirement already satisfied: lxml in /usr/local/lib/python3.7/dist-packages (from docx) (4.9.1)\n",
      "Requirement already satisfied: Pillow>=2.0 in /usr/local/lib/python3.7/dist-packages (from docx) (7.1.2)\n",
      "Building wheels for collected packages: docx\n",
      "  Building wheel for docx (setup.py) ... \u001b[?25l\u001b[?25hdone\n",
      "  Created wheel for docx: filename=docx-0.2.4-py3-none-any.whl size=53924 sha256=462072dc4490c3b90651a945799f55486722352495f37a4a23f4031edafd1059\n",
      "  Stored in directory: /root/.cache/pip/wheels/dc/ac/45/846e21706415c92fc6e0964e343be1eb31cfc63e149dee5fbe\n",
      "Successfully built docx\n",
      "Installing collected packages: docx\n",
      "Successfully installed docx-0.2.4\n",
      "Looking in indexes: https://pypi.org/simple, https://us-python.pkg.dev/colab-wheels/public/simple/\n",
      "Collecting pyresparser\n",
      "  Downloading pyresparser-1.0.6-py3-none-any.whl (4.2 MB)\n",
      "\u001b[K     |████████████████████████████████| 4.2 MB 6.8 MB/s \n",
      "\u001b[?25hCollecting pycryptodome>=3.8.2\n",
      "  Downloading pycryptodome-3.15.0-cp35-abi3-manylinux2010_x86_64.whl (2.3 MB)\n",
      "\u001b[K     |████████████████████████████████| 2.3 MB 45.1 MB/s \n",
      "\u001b[?25hRequirement already satisfied: pandas>=0.24.2 in /usr/local/lib/python3.7/dist-packages (from pyresparser) (1.3.5)\n",
      "Requirement already satisfied: srsly>=0.0.7 in /usr/local/lib/python3.7/dist-packages (from pyresparser) (2.4.5)\n",
      "Requirement already satisfied: python-dateutil>=2.8.0 in /usr/local/lib/python3.7/dist-packages (from pyresparser) (2.8.2)\n",
      "Collecting urllib3>=1.25.3\n",
      "\u001b[33m  WARNING: Retrying (Retry(total=4, connect=None, read=None, redirect=None, status=None)) after connection broken by 'ProtocolError('Connection aborted.', ConnectionResetError(104, 'Connection reset by peer'))': /packages/6f/de/5be2e3eed8426f871b170663333a0f627fc2924cc386cd41be065e7ea870/urllib3-1.26.12-py2.py3-none-any.whl\u001b[0m\n",
      "  Downloading urllib3-1.26.12-py2.py3-none-any.whl (140 kB)\n",
      "\u001b[K     |████████████████████████████████| 140 kB 8.6 MB/s \n",
      "\u001b[?25hRequirement already satisfied: pytz>=2019.1 in /usr/local/lib/python3.7/dist-packages (from pyresparser) (2022.5)\n",
      "Requirement already satisfied: attrs>=19.1.0 in /usr/local/lib/python3.7/dist-packages (from pyresparser) (22.1.0)\n",
      "Collecting docx2txt>=0.7\n",
      "  Downloading docx2txt-0.8.tar.gz (2.8 kB)\n",
      "Requirement already satisfied: chardet>=3.0.4 in /usr/local/lib/python3.7/dist-packages (from pyresparser) (3.0.4)\n",
      "Requirement already satisfied: preshed>=2.0.1 in /usr/local/lib/python3.7/dist-packages (from pyresparser) (3.0.8)\n",
      "Requirement already satisfied: sortedcontainers>=2.1.0 in /usr/local/lib/python3.7/dist-packages (from pyresparser) (2.4.0)\n",
      "Requirement already satisfied: numpy>=1.16.4 in /usr/local/lib/python3.7/dist-packages (from pyresparser) (1.21.6)\n",
      "Requirement already satisfied: six>=1.12.0 in /usr/local/lib/python3.7/dist-packages (from pyresparser) (1.15.0)\n",
      "Requirement already satisfied: requests>=2.22.0 in /usr/local/lib/python3.7/dist-packages (from pyresparser) (2.23.0)\n",
      "Requirement already satisfied: blis>=0.2.4 in /usr/local/lib/python3.7/dist-packages (from pyresparser) (0.7.9)\n",
      "Requirement already satisfied: spacy>=2.1.4 in /usr/local/lib/python3.7/dist-packages (from pyresparser) (3.4.2)\n",
      "Requirement already satisfied: cymem>=2.0.2 in /usr/local/lib/python3.7/dist-packages (from pyresparser) (2.0.7)\n",
      "Requirement already satisfied: nltk>=3.4.3 in /usr/local/lib/python3.7/dist-packages (from pyresparser) (3.7)\n",
      "Collecting pdfminer.six>=20181108\n",
      "  Downloading pdfminer.six-20220524-py3-none-any.whl (5.6 MB)\n",
      "\u001b[K     |████████████████████████████████| 5.6 MB 51.7 MB/s \n",
      "\u001b[?25hRequirement already satisfied: certifi>=2019.6.16 in /usr/local/lib/python3.7/dist-packages (from pyresparser) (2022.9.24)\n",
      "Requirement already satisfied: tqdm>=4.32.2 in /usr/local/lib/python3.7/dist-packages (from pyresparser) (4.64.1)\n",
      "Requirement already satisfied: pyrsistent>=0.15.2 in /usr/local/lib/python3.7/dist-packages (from pyresparser) (0.18.1)\n",
      "Requirement already satisfied: idna>=2.8 in /usr/local/lib/python3.7/dist-packages (from pyresparser) (2.10)\n",
      "Requirement already satisfied: wasabi>=0.2.2 in /usr/local/lib/python3.7/dist-packages (from pyresparser) (0.10.1)\n",
      "Requirement already satisfied: jsonschema>=3.0.1 in /usr/local/lib/python3.7/dist-packages (from pyresparser) (4.3.3)\n",
      "Requirement already satisfied: thinc>=7.0.4 in /usr/local/lib/python3.7/dist-packages (from pyresparser) (8.1.5)\n",
      "Requirement already satisfied: typing-extensions in /usr/local/lib/python3.7/dist-packages (from jsonschema>=3.0.1->pyresparser) (4.1.1)\n",
      "Requirement already satisfied: importlib-metadata in /usr/local/lib/python3.7/dist-packages (from jsonschema>=3.0.1->pyresparser) (4.13.0)\n",
      "Requirement already satisfied: importlib-resources>=1.4.0 in /usr/local/lib/python3.7/dist-packages (from jsonschema>=3.0.1->pyresparser) (5.10.0)\n",
      "Requirement already satisfied: zipp>=3.1.0 in /usr/local/lib/python3.7/dist-packages (from importlib-resources>=1.4.0->jsonschema>=3.0.1->pyresparser) (3.10.0)\n",
      "Requirement already satisfied: joblib in /usr/local/lib/python3.7/dist-packages (from nltk>=3.4.3->pyresparser) (1.2.0)\n",
      "Requirement already satisfied: regex>=2021.8.3 in /usr/local/lib/python3.7/dist-packages (from nltk>=3.4.3->pyresparser) (2022.6.2)\n",
      "Requirement already satisfied: click in /usr/local/lib/python3.7/dist-packages (from nltk>=3.4.3->pyresparser) (7.1.2)\n",
      "Collecting cryptography>=36.0.0\n",
      "  Downloading cryptography-38.0.3-cp36-abi3-manylinux_2_24_x86_64.whl (4.1 MB)\n",
      "\u001b[K     |████████████████████████████████| 4.1 MB 35.9 MB/s \n",
      "\u001b[?25hRequirement already satisfied: charset-normalizer>=2.0.0 in /usr/local/lib/python3.7/dist-packages (from pdfminer.six>=20181108->pyresparser) (2.1.1)\n",
      "Requirement already satisfied: cffi>=1.12 in /usr/local/lib/python3.7/dist-packages (from cryptography>=36.0.0->pdfminer.six>=20181108->pyresparser) (1.15.1)\n",
      "Requirement already satisfied: pycparser in /usr/local/lib/python3.7/dist-packages (from cffi>=1.12->cryptography>=36.0.0->pdfminer.six>=20181108->pyresparser) (2.21)\n",
      "Requirement already satisfied: murmurhash<1.1.0,>=0.28.0 in /usr/local/lib/python3.7/dist-packages (from preshed>=2.0.1->pyresparser) (1.0.9)\n",
      "Collecting urllib3>=1.25.3\n",
      "  Downloading urllib3-1.25.11-py2.py3-none-any.whl (127 kB)\n",
      "\u001b[K     |████████████████████████████████| 127 kB 49.4 MB/s \n",
      "\u001b[?25hRequirement already satisfied: setuptools in /usr/local/lib/python3.7/dist-packages (from spacy>=2.1.4->pyresparser) (57.4.0)\n",
      "Requirement already satisfied: catalogue<2.1.0,>=2.0.6 in /usr/local/lib/python3.7/dist-packages (from spacy>=2.1.4->pyresparser) (2.0.8)\n",
      "Requirement already satisfied: spacy-loggers<2.0.0,>=1.0.0 in /usr/local/lib/python3.7/dist-packages (from spacy>=2.1.4->pyresparser) (1.0.3)\n",
      "Requirement already satisfied: jinja2 in /usr/local/lib/python3.7/dist-packages (from spacy>=2.1.4->pyresparser) (2.11.3)\n",
      "Requirement already satisfied: typer<0.5.0,>=0.3.0 in /usr/local/lib/python3.7/dist-packages (from spacy>=2.1.4->pyresparser) (0.4.2)\n",
      "Requirement already satisfied: packaging>=20.0 in /usr/local/lib/python3.7/dist-packages (from spacy>=2.1.4->pyresparser) (21.3)\n",
      "Requirement already satisfied: pydantic!=1.8,!=1.8.1,<1.11.0,>=1.7.4 in /usr/local/lib/python3.7/dist-packages (from spacy>=2.1.4->pyresparser) (1.10.2)\n",
      "Requirement already satisfied: pathy>=0.3.5 in /usr/local/lib/python3.7/dist-packages (from spacy>=2.1.4->pyresparser) (0.6.2)\n",
      "Requirement already satisfied: spacy-legacy<3.1.0,>=3.0.10 in /usr/local/lib/python3.7/dist-packages (from spacy>=2.1.4->pyresparser) (3.0.10)\n",
      "Requirement already satisfied: langcodes<4.0.0,>=3.2.0 in /usr/local/lib/python3.7/dist-packages (from spacy>=2.1.4->pyresparser) (3.3.0)\n",
      "Requirement already satisfied: pyparsing!=3.0.5,>=2.0.2 in /usr/local/lib/python3.7/dist-packages (from packaging>=20.0->spacy>=2.1.4->pyresparser) (3.0.9)\n",
      "Requirement already satisfied: smart-open<6.0.0,>=5.2.1 in /usr/local/lib/python3.7/dist-packages (from pathy>=0.3.5->spacy>=2.1.4->pyresparser) (5.2.1)\n",
      "Requirement already satisfied: confection<1.0.0,>=0.0.1 in /usr/local/lib/python3.7/dist-packages (from thinc>=7.0.4->pyresparser) (0.0.3)\n",
      "Requirement already satisfied: MarkupSafe>=0.23 in /usr/local/lib/python3.7/dist-packages (from jinja2->spacy>=2.1.4->pyresparser) (2.0.1)\n",
      "Building wheels for collected packages: docx2txt\n",
      "  Building wheel for docx2txt (setup.py) ... \u001b[?25l\u001b[?25hdone\n",
      "  Created wheel for docx2txt: filename=docx2txt-0.8-py3-none-any.whl size=3980 sha256=5bc39c9b99fa86ceed70834e85e333973803856bf8235026a297ba4732a7999d\n",
      "  Stored in directory: /root/.cache/pip/wheels/b7/20/b2/473e3aea9a0c0d3e7b2f7bd81d06d0794fec12752733d1f3a8\n",
      "Successfully built docx2txt\n",
      "Installing collected packages: urllib3, cryptography, pycryptodome, pdfminer.six, docx2txt, pyresparser\n",
      "  Attempting uninstall: urllib3\n",
      "    Found existing installation: urllib3 1.24.3\n",
      "    Uninstalling urllib3-1.24.3:\n",
      "      Successfully uninstalled urllib3-1.24.3\n",
      "Successfully installed cryptography-38.0.3 docx2txt-0.8 pdfminer.six-20220524 pycryptodome-3.15.0 pyresparser-1.0.6 urllib3-1.25.11\n",
      "Looking in indexes: https://pypi.org/simple, https://us-python.pkg.dev/colab-wheels/public/simple/\n",
      "Collecting PyPDF2\n",
      "  Downloading PyPDF2-2.11.1-py3-none-any.whl (220 kB)\n",
      "\u001b[K     |████████████████████████████████| 220 kB 8.4 MB/s \n",
      "\u001b[?25hRequirement already satisfied: typing-extensions>=3.10.0.0 in /usr/local/lib/python3.7/dist-packages (from PyPDF2) (4.1.1)\n",
      "Installing collected packages: PyPDF2\n",
      "Successfully installed PyPDF2-2.11.1\n",
      "Looking in indexes: https://pypi.org/simple, https://us-python.pkg.dev/colab-wheels/public/simple/\n",
      "Collecting tika\n",
      "  Downloading tika-1.24.tar.gz (28 kB)\n",
      "Requirement already satisfied: setuptools in /usr/local/lib/python3.7/dist-packages (from tika) (57.4.0)\n",
      "Requirement already satisfied: requests in /usr/local/lib/python3.7/dist-packages (from tika) (2.23.0)\n",
      "Requirement already satisfied: idna<3,>=2.5 in /usr/local/lib/python3.7/dist-packages (from requests->tika) (2.10)\n",
      "Requirement already satisfied: certifi>=2017.4.17 in /usr/local/lib/python3.7/dist-packages (from requests->tika) (2022.9.24)\n",
      "Requirement already satisfied: urllib3!=1.25.0,!=1.25.1,<1.26,>=1.21.1 in /usr/local/lib/python3.7/dist-packages (from requests->tika) (1.25.11)\n",
      "Requirement already satisfied: chardet<4,>=3.0.2 in /usr/local/lib/python3.7/dist-packages (from requests->tika) (3.0.4)\n",
      "Building wheels for collected packages: tika\n",
      "  Building wheel for tika (setup.py) ... \u001b[?25l\u001b[?25hdone\n",
      "  Created wheel for tika: filename=tika-1.24-py3-none-any.whl size=32893 sha256=7109d9f83c4793708147af4dbb8507791c14251d83453a8b9f927895ccf7aa82\n",
      "  Stored in directory: /root/.cache/pip/wheels/ec/2b/38/58ff05467a742e32f67f5d0de048fa046e764e2fbb25ac93f3\n",
      "Successfully built tika\n",
      "Installing collected packages: tika\n",
      "Successfully installed tika-1.24\n"
     ]
    }
   ],
   "source": [
    "!pip install python-docx\n",
    "!pip install docx\n",
    "!pip install pyresparser\n",
    "!pip install PyPDF2\n",
    "!pip install tika"
   ]
  },
  {
   "cell_type": "code",
   "execution_count": 2,
   "metadata": {
    "executionInfo": {
     "elapsed": 705,
     "status": "ok",
     "timestamp": 1667401274812,
     "user": {
      "displayName": "Veeraj B",
      "userId": "00452043461591096215"
     },
     "user_tz": -330
    },
    "id": "5Q56zgl829Pe"
   },
   "outputs": [],
   "source": [
    "from docx import Document\n",
    "import os\n",
    "import pandas as pd\n",
    "import PyPDF2\n",
    "from tika import parser"
   ]
  },
  {
   "cell_type": "code",
   "execution_count": 3,
   "metadata": {
    "colab": {
     "base_uri": "https://localhost:8080/"
    },
    "executionInfo": {
     "elapsed": 3814,
     "status": "ok",
     "timestamp": 1667401361861,
     "user": {
      "displayName": "Veeraj B",
      "userId": "00452043461591096215"
     },
     "user_tz": -330
    },
    "id": "J6hUKjlt3Y7E",
    "outputId": "3d482d04-76a4-4bab-de9c-e0f32119de03"
   },
   "outputs": [
    {
     "name": "stderr",
     "output_type": "stream",
     "text": [
      "[nltk_data] Downloading package punkt to /root/nltk_data...\n",
      "[nltk_data]   Unzipping tokenizers/punkt.zip.\n",
      "[nltk_data] Downloading package stopwords to /root/nltk_data...\n",
      "[nltk_data]   Unzipping corpora/stopwords.zip.\n"
     ]
    },
    {
     "data": {
      "text/plain": [
       "True"
      ]
     },
     "execution_count": 3,
     "metadata": {},
     "output_type": "execute_result"
    }
   ],
   "source": [
    "from nltk.tokenize import word_tokenize\n",
    "import gensim\n",
    "from gensim.models.phrases import Phraser, Phrases\n",
    "import nltk\n",
    "nltk.download('punkt')\n",
    "nltk.download('stopwords')"
   ]
  },
  {
   "cell_type": "code",
   "execution_count": 4,
   "metadata": {
    "executionInfo": {
     "elapsed": 4,
     "status": "ok",
     "timestamp": 1667401375904,
     "user": {
      "displayName": "Veeraj B",
      "userId": "00452043461591096215"
     },
     "user_tz": -330
    },
    "id": "ynO1WJsW3Zgi"
   },
   "outputs": [],
   "source": [
    "def docx(path):\n",
    "  doc = Document(path)\n",
    "  indx=0\n",
    "  dd=[]\n",
    "  for para in doc.paragraphs:\n",
    "    indx+=1\n",
    "    if(len(para.text)>0):\n",
    "      dd.append(para.text)\n",
    "    else:\n",
    "      continue\n",
    "  return dd"
   ]
  },
  {
   "cell_type": "code",
   "execution_count": 5,
   "metadata": {
    "executionInfo": {
     "elapsed": 984,
     "status": "ok",
     "timestamp": 1667401385585,
     "user": {
      "displayName": "Veeraj B",
      "userId": "00452043461591096215"
     },
     "user_tz": -330
    },
    "id": "L4QmW5Mn3dg9"
   },
   "outputs": [],
   "source": [
    "def pdf(path):\n",
    "  pdfFileObject = open(path, 'rb')\n",
    "  pdfReader = PyPDF2.PdfFileReader(pdfFileObject)\n",
    "  pagefull=[]\n",
    "  for i in range(pdfReader.numPages):\n",
    "    pageObjfull=pdfReader.getPage(i)\n",
    "    pagefull.append(pageObjfull.extractText())\n",
    "    pagefull=' '.join(pagefull)\n",
    "    pagefull=pagefull.split()\n",
    "  return pagefull"
   ]
  },
  {
   "cell_type": "code",
   "execution_count": 6,
   "metadata": {
    "executionInfo": {
     "elapsed": 4,
     "status": "ok",
     "timestamp": 1667401392260,
     "user": {
      "displayName": "Veeraj B",
      "userId": "00452043461591096215"
     },
     "user_tz": -330
    },
    "id": "Hom53oRs3fyB"
   },
   "outputs": [],
   "source": [
    "def doc(path):\n",
    "  parsed = parser.from_file(path)\n",
    "  ansdoc=parsed[\"content\"]\n",
    "  ansdoc=ansdoc.split()\n",
    "  return ansdoc"
   ]
  },
  {
   "cell_type": "code",
   "execution_count": 7,
   "metadata": {
    "executionInfo": {
     "elapsed": 450,
     "status": "ok",
     "timestamp": 1667401406277,
     "user": {
      "displayName": "Veeraj B",
      "userId": "00452043461591096215"
     },
     "user_tz": -330
    },
    "id": "gwGO5E6V3hm9"
   },
   "outputs": [],
   "source": [
    "import pandas as pd\n",
    "import os\n",
    "path='/content'\n",
    "ndocx=[]\n",
    "ndoc=[]\n",
    "npdf=[]\n",
    "n=[]\n",
    "newpathdocx=[]\n",
    "newpathdoc=[]\n",
    "newpathpdf=[]\n",
    "for filename in os.listdir(path):\n",
    "\n",
    "    if filename.endswith('.docx'):\n",
    "        newpathdocx.append(os.path.join(path,filename))\n",
    "        ndocx.append(filename)\n",
    "\n",
    "    elif filename.endswith('.doc'):\n",
    "        newpathdoc.append(os.path.join(path,filename))\n",
    "        ndoc.append(filename)\n",
    "\n",
    "    elif filename.endswith('.pdf'):\n",
    "        newpathpdf.append(os.path.join(path,filename))\n",
    "        npdf.append(filename)\n",
    "\n",
    "      \n",
    "n=ndocx+ndoc+npdf\n"
   ]
  },
  {
   "cell_type": "code",
   "execution_count": 8,
   "metadata": {
    "executionInfo": {
     "elapsed": 709,
     "status": "ok",
     "timestamp": 1667401424441,
     "user": {
      "displayName": "Veeraj B",
      "userId": "00452043461591096215"
     },
     "user_tz": -330
    },
    "id": "3qorPO5T3lEq"
   },
   "outputs": [],
   "source": [
    "extdocx=[]   #data\n",
    "for i in newpathdocx:\n",
    "  extdocx.append(docx(i))\n",
    "#for i in extdocx:\n",
    "  #print(i,end='\\n')"
   ]
  },
  {
   "cell_type": "code",
   "execution_count": 9,
   "metadata": {
    "colab": {
     "base_uri": "https://localhost:8080/"
    },
    "executionInfo": {
     "elapsed": 6,
     "status": "ok",
     "timestamp": 1667401433086,
     "user": {
      "displayName": "Veeraj B",
      "userId": "00452043461591096215"
     },
     "user_tz": -330
    },
    "id": "1OQSljtu3pak",
    "outputId": "63113e54-177a-4299-fa88-0252a7c01934"
   },
   "outputs": [
    {
     "name": "stdout",
     "output_type": "stream",
     "text": [
      "['Page', '|', '1', 'Name:', 'M.', 'Prabakaran', 'Title:', 'UI', 'Developer', 'PROFESSIONAL', 'SUMMARY', '●', '2.4+', 'years', 'of', 'Professional', 'IT', 'experience', 'as', 'a', 'software', 'developer', 'having', 'knowledge', 'on', 'different', 'UI', 'based', 'Application.', '●', 'Hands', 'on', 'experience', 'in', 'HTML,', 'CSS,', 'JS,', 'ReactJS.', '●', 'Hands', 'on', 'experience', 'in', 'handling', 'UI', 'interaction,', 'Design', 'methodology.', '●', 'Handling', 'In', '-App', 'purchase,', 'uploading', 'and', 'maintaining', 'apps', 'in', 'play', 'store.', '●', 'Hands', 'on', 'experience', 'with', 'customization', 'over', 'base', '-product', 'depends', 'on', 'client', 'requirement.', '●', 'Cohesive', 'team', 'worker,', 'having', 'strong', 'analytical,', 'problem', 'solving', 'and', 'interpersonal', 'skills.', 'EDUCATION', '●', 'Completed', 'on', '2017', 'Bachelor', 'of', 'Technology', '(ECE)', ',', 'PRIST', 'University,', 'Tamil', 'Nadu.', '●', 'Completed', 'on', '2012', 'Higher', 'Secondary', ',', 'Mount', 'Park', 'Hr', 'Sec', 'School', ',', 'Thiyagadurgam,', 'Tamil', 'Nadu.', '●', 'Completed', 'on', '2010', 'SSLC', ',', 'Krishnasamy', 'Hr', 'Sec', 'School', ',', 'Cuddalore,', 'Tamil', 'Nadu.', 'SKILLS', 'Operating', 'System', 'Windows,', 'Unix,Mac', 'Programming', 'Languages', 'HTML,', 'CSS,', 'JS,', 'React', 'Mobile', 'App', 'Development', 'Windows', 'and', 'Android', 'Apps', 'Designing', 'Constatinant', 'layout', ',Motion', 'layout', 'Architectural', 'Pattern', 'MVC', 'IDE', 'Android', 'Studio', 'Services', 'AWS', 'bucket', 's3', 'service,', 'Bitbucket', 'PROJECT', 'DETAILS', 'Project', '1', 'Boomi', 'is', 'the', 'name', 'of', 'the', 'our', 'project', 'which', 'is', 'e', '-commerce', 'online', 'store.', 'We’d', 'developed', 'and', 'maintains', 'by', 'react', 'code.', 'Role', 'Front', 'End', 'Developer', 'Project', 'E-commerce', 'Technology', 'Android', 'Role', 'Played', '●', 'Developing', 'applications', 'using', 'Technologies', 'like', 'React', 'and', 'HTML.', '●', 'Involved', 'in', 'Requirement', 'Gathering.', '●', 'Resolving', 'client', 'given', 'queries.', '●', 'Communicating', 'with', 'the', 'team', 'and', 'adding', 'features.', '●', 'Performed', 'Restful', 'API', 'services', 'using', 'volley.', 'Page', '|', '2', 'Project', '2', 'Golden', 'Gopuram', '–', 'This’s', 'the', 'live', 'project', 'it', 'is', 'pooja', 'based', 'on', 'products', 'seems', 'it', 'going', 'on', 'development', 'also', 'available', 'on', 'source', 'Role', 'Front', 'End', 'Developer', 'Project', 'Golden', 'Gopuram', 'Technology', 'Android', 'Role', 'Played', '●', 'Developing', 'applications', 'using', 'Technologies', 'like', 'Java', 'and', 'XML.', '●', 'Involved', 'in', 'Requirement', 'Gathering.', '●', 'Resolving', 'client', 'given', 'queries.', '●', 'Communicating', 'with', 'the', 'team', 'and', 'adding', 'features.', '●', 'Performed', 'Restful', 'API', 'services', 'using', 'volley.', '●', 'Implementing', 'design', 'patterns.', 'Project', '3', 'ToDo', 'App', '–', 'This’s', 'the', 'myself', 'created', 'for', 'my', 'practice', 'seems', 'it', 'going', 'on', 'development', 'also', 'available', 'on', 'source', 'Role', 'Front', 'End', 'Developer', 'Project', 'ToDo', 'App', 'Technology', 'Android', 'Role', 'Played', '●', 'Developing', 'applications', 'using', 'Technologies', 'like', 'Java', 'and', 'XML.', '●', 'Involved', 'in', 'Requirement', 'Gathering.', '●', 'Resolving', 'client', 'given', 'queries.', '●', 'Communicating', 'with', 'the', 'team', 'and', 'adding', 'features.', '●', 'Performed', 'Restful', 'API', 'services', 'using', 'volley.', '●', 'Implementing', 'design', 'patterns.', 'Basic', 'Details:', 'DOB:', '23/01/1995', 'PAN:', 'CCRPP0144B', 'Father', 'Name:', 'Murugan,', 'Residency:', 'Cuddalore,', 'Tamilnadu.', 'Date:', 'Place:', 'Cuddalore', 'Prabakaran', 'M']\n"
     ]
    }
   ],
   "source": [
    "extpdf=[]\n",
    "for i in newpathpdf:\n",
    "  extpdf.append(pdf(i))\n",
    "\n",
    "for i in extpdf:\n",
    "  print(i,end='\\n')"
   ]
  },
  {
   "cell_type": "code",
   "execution_count": 10,
   "metadata": {
    "colab": {
     "base_uri": "https://localhost:8080/"
    },
    "executionInfo": {
     "elapsed": 19288,
     "status": "ok",
     "timestamp": 1667401470465,
     "user": {
      "displayName": "Veeraj B",
      "userId": "00452043461591096215"
     },
     "user_tz": -330
    },
    "id": "BgmbTgZg3rff",
    "outputId": "98cadefd-d4b1-4210-eade-5613b8b32d9c"
   },
   "outputs": [
    {
     "name": "stderr",
     "output_type": "stream",
     "text": [
      "2022-11-02 15:04:10,846 [MainThread  ] [INFO ]  Retrieving http://search.maven.org/remotecontent?filepath=org/apache/tika/tika-server/1.24/tika-server-1.24.jar to /tmp/tika-server.jar.\n",
      "INFO:tika.tika:Retrieving http://search.maven.org/remotecontent?filepath=org/apache/tika/tika-server/1.24/tika-server-1.24.jar to /tmp/tika-server.jar.\n",
      "2022-11-02 15:04:11,551 [MainThread  ] [INFO ]  Retrieving http://search.maven.org/remotecontent?filepath=org/apache/tika/tika-server/1.24/tika-server-1.24.jar.md5 to /tmp/tika-server.jar.md5.\n",
      "INFO:tika.tika:Retrieving http://search.maven.org/remotecontent?filepath=org/apache/tika/tika-server/1.24/tika-server-1.24.jar.md5 to /tmp/tika-server.jar.md5.\n",
      "2022-11-02 15:04:11,991 [MainThread  ] [WARNI]  Failed to see startup log message; retrying...\n",
      "WARNING:tika.tika:Failed to see startup log message; retrying...\n"
     ]
    }
   ],
   "source": [
    "extdoc=[]\n",
    "for i in newpathdoc:\n",
    "  extdoc.append(doc(i)) # getting data from doc"
   ]
  },
  {
   "cell_type": "code",
   "execution_count": 11,
   "metadata": {
    "executionInfo": {
     "elapsed": 16,
     "status": "ok",
     "timestamp": 1667401470465,
     "user": {
      "displayName": "Veeraj B",
      "userId": "00452043461591096215"
     },
     "user_tz": -330
    },
    "id": "V6DhUjTM3wJW"
   },
   "outputs": [],
   "source": [
    "final_extraction=extdocx+extdoc+extpdf"
   ]
  },
  {
   "cell_type": "code",
   "execution_count": 12,
   "metadata": {
    "executionInfo": {
     "elapsed": 3,
     "status": "ok",
     "timestamp": 1667401478562,
     "user": {
      "displayName": "Veeraj B",
      "userId": "00452043461591096215"
     },
     "user_tz": -330
    },
    "id": "qwVMtapC3zOt"
   },
   "outputs": [],
   "source": [
    "skill=[]\n",
    "for i in final_extraction:\n",
    "  skill.append(\" \".join(i))"
   ]
  },
  {
   "cell_type": "code",
   "execution_count": 13,
   "metadata": {
    "colab": {
     "base_uri": "https://localhost:8080/"
    },
    "executionInfo": {
     "elapsed": 4,
     "status": "ok",
     "timestamp": 1667401488581,
     "user": {
      "displayName": "Veeraj B",
      "userId": "00452043461591096215"
     },
     "user_tz": -330
    },
    "id": "bP7VM4QR32oN",
    "outputId": "6903dc14-27cf-4319-e674-f434b6cd4990"
   },
   "outputs": [
    {
     "name": "stdout",
     "output_type": "stream",
     "text": [
      "['Neeraj Mishra.docx', 'Resume_Subha Santosh_Peoplesoft FSCM.docx', 'React Developer_Naveen sadhu.docx', 'Reactjs Developer_Pranish Sonone_Musquare Technologies.docx', 'Gopi Krishna_Hexaware.docx', 'Ramalakshmi K.docx', 'Reactjs Developer_kambala sai surendra_Musquare Technologies.docx', 'Reactjs Developer_MD Khizaruddin Rauf _Musquare Technologies.docx', 'SSKumar_Hexaware.docx', 'React Developer_Sarala Madasu-converted.docx', 'React Developer_Thirupathiamma.docx', 'React Dev_Krishna Kanth_Musquare Technologies.docx', 'React Developer_Deepakreddy.docx', 'Peoplesoft Admin_AnubhavSingh.docx', 'Internship_Ravali_Musquare Technologies (1).docx', 'Srikanth-Hexaware.docx', 'Vinay Kumar_Hexaware.docx', 'React Developer_Haripriya.docx', 'AradhanaTripathi[4_0].docx', 'premsai.docx', 'Reactjs Developer_M Lokesh.docx', 'React JS Developer_Venkatalakshmi (1)-converted.docx', 'Peoplesoft FSCM_Murali.docx', 'PeopleSoft DBA_Vivekanand Sayana.docx', 'Peoplesoft Admin_Varkala Vikas.docx', 'kamballapradeep.docx', 'Vinod B.docx', 'Peoplesoft Admin_SirazuddinMohammad.docx', 'RameshNataru[3_4].docx', 'Peoplesoft FSCM_SUJATHA.docx', 'Peoplesoft FSCM_HariNarayana.docx', 'Rajupavanakumari[2_10].docx', 'React Developer_Pragnya.docx', 'React JS Developer_KotaniDurgaprasad[3_1] (1)-converted.docx', 'MooraboyinaGuravaiah_Hexaware.docx', 'Himaja G_(Hexaware).docx', 'Peoplesoft FSCM_PriyabrataHota.docx', 'Internship_Susovan Bag_Musquare Technologies.docx', 'P V Sai Krishna_ Hexaware.docx', 'Reactjs Developer_M Lokesh Babu_Musquare Technologies.docx', 'Peoplesoft Admin_Murali.docx', 'React Developer_Kamalakar Reddy.docx', 'Buddha Vamsi.docx', 'Reactjs Developer_Ranga Gaganam_Musquare Technologies.docx', 'PSyamKumar[2_3].docx', 'ChinnaSubbarayuduM_Hexaware.docx', 'Reactjs Developer_Shaik Abdul Sharuk_Musquare Technologies.docx', 'Anil kumar.docx', 'RahulM_Hexaware.docx', 'React Dev_Krishna Kanth.docx', 'Jyotiverma_Heaware.docx', 'RameshP_Hexaware.docx', 'React Developer_PavasGoswami.doc', 'Priyanka L.doc', 'Sri Krishna S_Hexaware.doc', 'Peoplesoft Admin_Vinod Akkala.doc', 'Tatikonda Kiran Kumar.doc', 'Madeeswar A_Hexaware.doc', 'Peoplesoft Admin_G Ananda Rayudu.doc', 'Nazeer Basha.doc', 'Punugoti Swetha_Hexaware.doc', 'Peoplesoft Admin_Gangareddy.doc', 'Peoplesoft Finance_Pritam Biswas.doc', 'Peoplesoft Admin_srinivasarao.doc', 'Hima Mendu_Hexaware.doc', 'Peoplesoft Admin_Priyanka Ramadoss.doc', 'ShireeshKumar_Hexaware.doc', 'Naresh Babu Cherukuri_Hexaware.doc', 'Venkateswarlu B_Hexaware.doc', 'J. Sumanth Royal_Hexaware.doc', 'Harikrishna Akula_Hexaware.doc', 'PeopleSoft DBA_Ganesh Alladi.doc', 'Peoplesoft Finance_Arun Venu.doc', 'Peoplesoft FSCM_R Ahmed.doc', 'React Developer_Vinay Reddy.doc', 'React JS Developer_AnjaniPriyadarshini.doc', 'Peoplesoft Finance_Rahul Ahuja.doc', 'Hari Krishna M_Hexaware.doc', 'Reactjs Developer_Prabakaran_Musquare Technologies.pdf']\n"
     ]
    }
   ],
   "source": [
    "print(n,end='\\n')"
   ]
  },
  {
   "cell_type": "code",
   "execution_count": 14,
   "metadata": {
    "executionInfo": {
     "elapsed": 3,
     "status": "ok",
     "timestamp": 1667401504027,
     "user": {
      "displayName": "Veeraj B",
      "userId": "00452043461591096215"
     },
     "user_tz": -330
    },
    "id": "ppZfTPcR35De"
   },
   "outputs": [],
   "source": [
    "ff={'NAME':n,'Skills':skill}"
   ]
  },
  {
   "cell_type": "code",
   "execution_count": 15,
   "metadata": {
    "colab": {
     "base_uri": "https://localhost:8080/",
     "height": 424
    },
    "executionInfo": {
     "elapsed": 481,
     "status": "ok",
     "timestamp": 1667401510659,
     "user": {
      "displayName": "Veeraj B",
      "userId": "00452043461591096215"
     },
     "user_tz": -330
    },
    "id": "3JW0byQr39Eo",
    "outputId": "14566f40-3b17-48f0-a3d5-fcc60c1adda0"
   },
   "outputs": [
    {
     "data": {
      "text/html": [
       "\n",
       "  <div id=\"df-11d22f3c-d972-4922-8be6-ab23597fc768\">\n",
       "    <div class=\"colab-df-container\">\n",
       "      <div>\n",
       "<style scoped>\n",
       "    .dataframe tbody tr th:only-of-type {\n",
       "        vertical-align: middle;\n",
       "    }\n",
       "\n",
       "    .dataframe tbody tr th {\n",
       "        vertical-align: top;\n",
       "    }\n",
       "\n",
       "    .dataframe thead th {\n",
       "        text-align: right;\n",
       "    }\n",
       "</style>\n",
       "<table border=\"1\" class=\"dataframe\">\n",
       "  <thead>\n",
       "    <tr style=\"text-align: right;\">\n",
       "      <th></th>\n",
       "      <th>NAME</th>\n",
       "      <th>Skills</th>\n",
       "    </tr>\n",
       "  </thead>\n",
       "  <tbody>\n",
       "    <tr>\n",
       "      <th>0</th>\n",
       "      <td>Neeraj Mishra.docx</td>\n",
       "      <td>Resu...</td>\n",
       "    </tr>\n",
       "    <tr>\n",
       "      <th>1</th>\n",
       "      <td>Resume_Subha Santosh_Peoplesoft FSCM.docx</td>\n",
       "      <td>C O N T A C T : Address: Manyata Tech Park, Na...</td>\n",
       "    </tr>\n",
       "    <tr>\n",
       "      <th>2</th>\n",
       "      <td>React Developer_Naveen sadhu.docx</td>\n",
       "      <td>Naveen Sadhu Title: software developer\\t\\t\\t\\t...</td>\n",
       "    </tr>\n",
       "    <tr>\n",
       "      <th>3</th>\n",
       "      <td>Reactjs Developer_Pranish Sonone_Musquare Tech...</td>\n",
       "      <td>Pranish Sonone \\t Career summary: Experience o...</td>\n",
       "    </tr>\n",
       "    <tr>\n",
       "      <th>4</th>\n",
       "      <td>Gopi Krishna_Hexaware.docx</td>\n",
       "      <td>\\t Name         : Gopi Krishna Reddy \\t\\t     ...</td>\n",
       "    </tr>\n",
       "    <tr>\n",
       "      <th>...</th>\n",
       "      <td>...</td>\n",
       "      <td>...</td>\n",
       "    </tr>\n",
       "    <tr>\n",
       "      <th>74</th>\n",
       "      <td>React Developer_Vinay Reddy.doc</td>\n",
       "      <td>Maryala Vinay Reddy Professional Summary: · Ha...</td>\n",
       "    </tr>\n",
       "    <tr>\n",
       "      <th>75</th>\n",
       "      <td>React JS Developer_AnjaniPriyadarshini.doc</td>\n",
       "      <td>Deepchand CURRICULUM VITAE Anjani Priyadarshin...</td>\n",
       "    </tr>\n",
       "    <tr>\n",
       "      <th>76</th>\n",
       "      <td>Peoplesoft Finance_Rahul Ahuja.doc</td>\n",
       "      <td>Rahul Ahuja ----------------------------------...</td>\n",
       "    </tr>\n",
       "    <tr>\n",
       "      <th>77</th>\n",
       "      <td>Hari Krishna M_Hexaware.doc</td>\n",
       "      <td>Hari Krishna M Summary: · A result oriented pr...</td>\n",
       "    </tr>\n",
       "    <tr>\n",
       "      <th>78</th>\n",
       "      <td>Reactjs Developer_Prabakaran_Musquare Technolo...</td>\n",
       "      <td>Page | 1 Name: M. Prabakaran Title: UI Develop...</td>\n",
       "    </tr>\n",
       "  </tbody>\n",
       "</table>\n",
       "<p>79 rows × 2 columns</p>\n",
       "</div>\n",
       "      <button class=\"colab-df-convert\" onclick=\"convertToInteractive('df-11d22f3c-d972-4922-8be6-ab23597fc768')\"\n",
       "              title=\"Convert this dataframe to an interactive table.\"\n",
       "              style=\"display:none;\">\n",
       "        \n",
       "  <svg xmlns=\"http://www.w3.org/2000/svg\" height=\"24px\"viewBox=\"0 0 24 24\"\n",
       "       width=\"24px\">\n",
       "    <path d=\"M0 0h24v24H0V0z\" fill=\"none\"/>\n",
       "    <path d=\"M18.56 5.44l.94 2.06.94-2.06 2.06-.94-2.06-.94-.94-2.06-.94 2.06-2.06.94zm-11 1L8.5 8.5l.94-2.06 2.06-.94-2.06-.94L8.5 2.5l-.94 2.06-2.06.94zm10 10l.94 2.06.94-2.06 2.06-.94-2.06-.94-.94-2.06-.94 2.06-2.06.94z\"/><path d=\"M17.41 7.96l-1.37-1.37c-.4-.4-.92-.59-1.43-.59-.52 0-1.04.2-1.43.59L10.3 9.45l-7.72 7.72c-.78.78-.78 2.05 0 2.83L4 21.41c.39.39.9.59 1.41.59.51 0 1.02-.2 1.41-.59l7.78-7.78 2.81-2.81c.8-.78.8-2.07 0-2.86zM5.41 20L4 18.59l7.72-7.72 1.47 1.35L5.41 20z\"/>\n",
       "  </svg>\n",
       "      </button>\n",
       "      \n",
       "  <style>\n",
       "    .colab-df-container {\n",
       "      display:flex;\n",
       "      flex-wrap:wrap;\n",
       "      gap: 12px;\n",
       "    }\n",
       "\n",
       "    .colab-df-convert {\n",
       "      background-color: #E8F0FE;\n",
       "      border: none;\n",
       "      border-radius: 50%;\n",
       "      cursor: pointer;\n",
       "      display: none;\n",
       "      fill: #1967D2;\n",
       "      height: 32px;\n",
       "      padding: 0 0 0 0;\n",
       "      width: 32px;\n",
       "    }\n",
       "\n",
       "    .colab-df-convert:hover {\n",
       "      background-color: #E2EBFA;\n",
       "      box-shadow: 0px 1px 2px rgba(60, 64, 67, 0.3), 0px 1px 3px 1px rgba(60, 64, 67, 0.15);\n",
       "      fill: #174EA6;\n",
       "    }\n",
       "\n",
       "    [theme=dark] .colab-df-convert {\n",
       "      background-color: #3B4455;\n",
       "      fill: #D2E3FC;\n",
       "    }\n",
       "\n",
       "    [theme=dark] .colab-df-convert:hover {\n",
       "      background-color: #434B5C;\n",
       "      box-shadow: 0px 1px 3px 1px rgba(0, 0, 0, 0.15);\n",
       "      filter: drop-shadow(0px 1px 2px rgba(0, 0, 0, 0.3));\n",
       "      fill: #FFFFFF;\n",
       "    }\n",
       "  </style>\n",
       "\n",
       "      <script>\n",
       "        const buttonEl =\n",
       "          document.querySelector('#df-11d22f3c-d972-4922-8be6-ab23597fc768 button.colab-df-convert');\n",
       "        buttonEl.style.display =\n",
       "          google.colab.kernel.accessAllowed ? 'block' : 'none';\n",
       "\n",
       "        async function convertToInteractive(key) {\n",
       "          const element = document.querySelector('#df-11d22f3c-d972-4922-8be6-ab23597fc768');\n",
       "          const dataTable =\n",
       "            await google.colab.kernel.invokeFunction('convertToInteractive',\n",
       "                                                     [key], {});\n",
       "          if (!dataTable) return;\n",
       "\n",
       "          const docLinkHtml = 'Like what you see? Visit the ' +\n",
       "            '<a target=\"_blank\" href=https://colab.research.google.com/notebooks/data_table.ipynb>data table notebook</a>'\n",
       "            + ' to learn more about interactive tables.';\n",
       "          element.innerHTML = '';\n",
       "          dataTable['output_type'] = 'display_data';\n",
       "          await google.colab.output.renderOutput(dataTable, element);\n",
       "          const docLink = document.createElement('div');\n",
       "          docLink.innerHTML = docLinkHtml;\n",
       "          element.appendChild(docLink);\n",
       "        }\n",
       "      </script>\n",
       "    </div>\n",
       "  </div>\n",
       "  "
      ],
      "text/plain": [
       "                                                 NAME  \\\n",
       "0                                  Neeraj Mishra.docx   \n",
       "1           Resume_Subha Santosh_Peoplesoft FSCM.docx   \n",
       "2                   React Developer_Naveen sadhu.docx   \n",
       "3   Reactjs Developer_Pranish Sonone_Musquare Tech...   \n",
       "4                          Gopi Krishna_Hexaware.docx   \n",
       "..                                                ...   \n",
       "74                    React Developer_Vinay Reddy.doc   \n",
       "75         React JS Developer_AnjaniPriyadarshini.doc   \n",
       "76                 Peoplesoft Finance_Rahul Ahuja.doc   \n",
       "77                        Hari Krishna M_Hexaware.doc   \n",
       "78  Reactjs Developer_Prabakaran_Musquare Technolo...   \n",
       "\n",
       "                                               Skills  \n",
       "0                                             Resu...  \n",
       "1   C O N T A C T : Address: Manyata Tech Park, Na...  \n",
       "2   Naveen Sadhu Title: software developer\\t\\t\\t\\t...  \n",
       "3   Pranish Sonone \\t Career summary: Experience o...  \n",
       "4   \\t Name         : Gopi Krishna Reddy \\t\\t     ...  \n",
       "..                                                ...  \n",
       "74  Maryala Vinay Reddy Professional Summary: · Ha...  \n",
       "75  Deepchand CURRICULUM VITAE Anjani Priyadarshin...  \n",
       "76  Rahul Ahuja ----------------------------------...  \n",
       "77  Hari Krishna M Summary: · A result oriented pr...  \n",
       "78  Page | 1 Name: M. Prabakaran Title: UI Develop...  \n",
       "\n",
       "[79 rows x 2 columns]"
      ]
     },
     "execution_count": 15,
     "metadata": {},
     "output_type": "execute_result"
    }
   ],
   "source": [
    "df=pd.DataFrame(data=ff)\n",
    "df"
   ]
  },
  {
   "cell_type": "code",
   "execution_count": 16,
   "metadata": {
    "colab": {
     "base_uri": "https://localhost:8080/"
    },
    "executionInfo": {
     "elapsed": 29,
     "status": "ok",
     "timestamp": 1667402214421,
     "user": {
      "displayName": "Veeraj B",
      "userId": "00452043461591096215"
     },
     "user_tz": -330
    },
    "id": "fE19Chfj3-pN",
    "outputId": "4ba21162-7fed-4b9b-a569-c366ff37c6e7"
   },
   "outputs": [
    {
     "data": {
      "text/plain": [
       "(79, 2)"
      ]
     },
     "execution_count": 16,
     "metadata": {},
     "output_type": "execute_result"
    }
   ],
   "source": [
    "df.shape"
   ]
  },
  {
   "cell_type": "code",
   "execution_count": 17,
   "metadata": {
    "executionInfo": {
     "elapsed": 3,
     "status": "ok",
     "timestamp": 1667402221295,
     "user": {
      "displayName": "Veeraj B",
      "userId": "00452043461591096215"
     },
     "user_tz": -330
    },
    "id": "DohJQKxx6qWZ"
   },
   "outputs": [],
   "source": [
    "from sklearn.feature_extraction.text import TfidfVectorizer"
   ]
  },
  {
   "cell_type": "code",
   "execution_count": 18,
   "metadata": {
    "executionInfo": {
     "elapsed": 3,
     "status": "ok",
     "timestamp": 1667402229072,
     "user": {
      "displayName": "Veeraj B",
      "userId": "00452043461591096215"
     },
     "user_tz": -330
    },
    "id": "Wt_HobAK6sKB"
   },
   "outputs": [],
   "source": [
    "tfidf = TfidfVectorizer(max_df=0.95,min_df=2,stop_words='english')"
   ]
  },
  {
   "cell_type": "code",
   "execution_count": 19,
   "metadata": {
    "executionInfo": {
     "elapsed": 3,
     "status": "ok",
     "timestamp": 1667402253713,
     "user": {
      "displayName": "Veeraj B",
      "userId": "00452043461591096215"
     },
     "user_tz": -330
    },
    "id": "ZjuF02bA6t6Q"
   },
   "outputs": [],
   "source": [
    "dtm =  tfidf.fit_transform(df['Skills'])"
   ]
  },
  {
   "cell_type": "code",
   "execution_count": 20,
   "metadata": {
    "colab": {
     "base_uri": "https://localhost:8080/"
    },
    "executionInfo": {
     "elapsed": 562,
     "status": "ok",
     "timestamp": 1667402264044,
     "user": {
      "displayName": "Veeraj B",
      "userId": "00452043461591096215"
     },
     "user_tz": -330
    },
    "id": "aey_Oe3J6z1f",
    "outputId": "3e0324bf-e13f-4a11-e405-23efa4c25a44"
   },
   "outputs": [
    {
     "data": {
      "text/plain": [
       "<79x2199 sparse matrix of type '<class 'numpy.float64'>'\n",
       "\twith 17312 stored elements in Compressed Sparse Row format>"
      ]
     },
     "execution_count": 20,
     "metadata": {},
     "output_type": "execute_result"
    }
   ],
   "source": [
    "dtm"
   ]
  },
  {
   "cell_type": "code",
   "execution_count": 21,
   "metadata": {
    "executionInfo": {
     "elapsed": 3,
     "status": "ok",
     "timestamp": 1667402271519,
     "user": {
      "displayName": "Veeraj B",
      "userId": "00452043461591096215"
     },
     "user_tz": -330
    },
    "id": "0NzQHFXW62iS"
   },
   "outputs": [],
   "source": [
    "from sklearn.decomposition import NMF"
   ]
  },
  {
   "cell_type": "code",
   "execution_count": 22,
   "metadata": {
    "executionInfo": {
     "elapsed": 4,
     "status": "ok",
     "timestamp": 1667402278404,
     "user": {
      "displayName": "Veeraj B",
      "userId": "00452043461591096215"
     },
     "user_tz": -330
    },
    "id": "LSZmlG3764Sx"
   },
   "outputs": [],
   "source": [
    "nmf_model = NMF(n_components=15,random_state=42)"
   ]
  },
  {
   "cell_type": "code",
   "execution_count": 23,
   "metadata": {
    "colab": {
     "base_uri": "https://localhost:8080/"
    },
    "executionInfo": {
     "elapsed": 1301,
     "status": "ok",
     "timestamp": 1667402286621,
     "user": {
      "displayName": "Veeraj B",
      "userId": "00452043461591096215"
     },
     "user_tz": -330
    },
    "id": "fcGn08WM65_h",
    "outputId": "afc04e36-f236-4193-a5af-bfa4c9e0f382"
   },
   "outputs": [
    {
     "name": "stderr",
     "output_type": "stream",
     "text": [
      "/usr/local/lib/python3.7/dist-packages/sklearn/decomposition/_nmf.py:294: FutureWarning: The 'init' value, when 'init=None' and n_components is less than n_samples and n_features, will be changed from 'nndsvd' to 'nndsvda' in 1.1 (renaming of 0.26).\n",
      "  FutureWarning,\n",
      "/usr/local/lib/python3.7/dist-packages/sklearn/decomposition/_nmf.py:1641: ConvergenceWarning: Maximum number of iterations 200 reached. Increase it to improve convergence.\n",
      "  ConvergenceWarning,\n"
     ]
    },
    {
     "data": {
      "text/plain": [
       "NMF(n_components=15, random_state=42)"
      ]
     },
     "execution_count": 23,
     "metadata": {},
     "output_type": "execute_result"
    }
   ],
   "source": [
    "nmf_model.fit(dtm)"
   ]
  },
  {
   "cell_type": "code",
   "execution_count": 24,
   "metadata": {
    "colab": {
     "base_uri": "https://localhost:8080/"
    },
    "executionInfo": {
     "elapsed": 19,
     "status": "ok",
     "timestamp": 1667402293827,
     "user": {
      "displayName": "Veeraj B",
      "userId": "00452043461591096215"
     },
     "user_tz": -330
    },
    "id": "hRgOglVZ67qh",
    "outputId": "2f6631f7-a344-43c4-d3b3-b1fdded575f0"
   },
   "outputs": [
    {
     "name": "stdout",
     "output_type": "stream",
     "text": [
      "THE TOP 15 WORDS FOR TOPIC #0\n",
      "['consultant', 'developed', 'security', 'writer', 'testing', 'calculated', 'transformation', 'document', 'created', 'worked', 'connector', 'outbound', 'hcm', 'fields', 'payroll', 'connectors', 'business', 'custom', 'inbound', 'xml', 'using', 'integration', 'report', 'xslt', 'studio', 'reports', 'core', 'eib', 'integrations', 'workday']\n",
      "\n",
      "\n",
      "\n",
      "\n",
      "THE TOP 15 WORDS FOR TOPIC #1\n",
      "['55', 'configuration', 'installed', 'weblogic', 'dba', 'people', 'assistant', 'configured', 'troubleshooting', 'administration', 'updates', 'setup', 'production', 'peopletools', 'instances', 'tuxedo', 'pum', 'applying', 'environments', 'web', 'process', 'oracle', 'patches', 'scheduler', 'database', 'application', 'domains', 'servers', 'server', 'peoplesoft']\n",
      "\n",
      "\n",
      "\n",
      "\n",
      "THE TOP 15 WORDS FOR TOPIC #2\n",
      "['worked', 'forms', 'single', 'github', 'website', 'events', 'dom', 'extensive', 'responsible', 'developing', 'animations', 'pages', 'router', 'used', 'concepts', 'bootstrap', 'web', 'develop', 'json', 'html5', 'using', 'flux', 'css3', 'developer', 'redux', 'ui', 'javascript', 'components', 'js', 'react']\n",
      "\n",
      "\n",
      "\n",
      "\n",
      "THE TOP 15 WORDS FOR TOPIC #3\n",
      "['defined', 'reports', 'services', 'knowledge', 'care', 'good', 'ssrs', 'query', 'merge', 'cte', 'health', 'sub', 'task', 'joins', 'using', 'clustered', 'data', 'table', 'database', 'queries', 'triggers', 'stored', 'views', 'ssis', 'indexes', 'procedures', 'tables', 'functions', 'server', 'sql']\n",
      "\n",
      "\n",
      "\n",
      "\n",
      "THE TOP 15 WORDS FOR TOPIC #4\n",
      "['test', 'andhra', 'business', 'technical', 'approach', 'pradesh', 'hyderabad', 'customize', 'fdd', 'component', 'india', 'peoplesoft', 'understand', 'cases', 'code', 'objects', 'unit', 'prepare', 'sit', 'documents', 'retrofit', 'hsbc', 'verizon', 'responsible', 'design', 'programs', 'randstad', 'engine', 'application', 'people']\n",
      "\n",
      "\n",
      "\n",
      "\n",
      "THE TOP 15 WORDS FOR TOPIC #5\n",
      "['customer', 'design', 'web', 'javascript', 'place', 'programming', 'bootstrap', 'product', '2019', 'jquery', 'coordinating', 'react', 'team', 'git', 'review', 'inventory', 'control', 'stock', 'babu', 'rmc', 'lokesh', 'mareedu', 'node', 'html', 'mysql', 'css', 'concrete', 'php', 'redimix', 'js']\n",
      "\n",
      "\n",
      "\n",
      "\n",
      "THE TOP 15 WORDS FOR TOPIC #6\n",
      "['personal', 'mysql', 'paper', 'computer', 'js', '2015', '2012', 'present', '2k18', 'poster', 'certificate', 'zp', '63', 'presentation', '08', 'school', 'ethical', 'coordinator', 'hacking', 'engineer', 'diet', '2011', 'visakhapatnam', 'participated', 'academic', '03', 'college', 'engineering', 'conducted', 'percentage']\n",
      "\n",
      "\n",
      "\n",
      "\n",
      "THE TOP 15 WORDS FOR TOPIC #7\n",
      "['models', 'creating', 'consultant', 'salary', 'plans', 'functional', 'management', 'positions', 'processes', 'eib', 'staffing', 'setup', 'security', 'organization', 'cost', 'profiles', 'process', 'calculated', 'fields', 'hierarchies', 'reports', 'hcm', 'custom', 'hr', 'compensation', 'supervisory', 'business', 'organizations', 'job', 'workday']\n",
      "\n",
      "\n",
      "\n",
      "\n",
      "THE TOP 15 WORDS FOR TOPIC #8\n"
     ]
    },
    {
     "name": "stderr",
     "output_type": "stream",
     "text": [
      "/usr/local/lib/python3.7/dist-packages/sklearn/utils/deprecation.py:87: FutureWarning: Function get_feature_names is deprecated; get_feature_names is deprecated in 1.0 and will be removed in 1.2. Please use get_feature_names_out instead.\n",
      "  warnings.warn(msg, category=FutureWarning)\n"
     ]
    },
    {
     "name": "stdout",
     "output_type": "stream",
     "text": [
      "['control', 'technical', 'role', 'project', 'suisse', 'period', 'sqr', 'applications', 'consultant', 'requisition', 'engine', 'created', 'international', 'component', 'publisher', 'oracle', 'modules', 'team', 'support', 'query', 'designer', 'pages', 'worked', 'financial', 'application', 'fscm', 'people', 'tools', 'ps', 'peoplesoft']\n",
      "\n",
      "\n",
      "\n",
      "\n",
      "THE TOP 15 WORDS FOR TOPIC #9\n",
      "['roles', 'brand', 'specific', 'warehouse', 'group', 'dashboards', 'users', 'project', 'limited', 'mysql', 'database', 'intelligence', 'country', 'using', 'ms', 'business', 'stores', 'ssis', 'inventory', 'reports', 'sales', 'etl', 'cube', 'server', 'aws', 'sql', 'retail', 'power', 'data', 'bi']\n",
      "\n",
      "\n",
      "\n",
      "\n",
      "THE TOP 15 WORDS FOR TOPIC #10\n",
      "['2021', 'vehicles', 'goal', 'delete', 'senior', 'need', 'red', 'library', 'car', 'auto', 'correct', 'driving', 'strengths', 'todo', 'reputed', 'read', 'conjunction', 'profile', 'real', 'gmail', 'linkedin', 'objective', 'app', 'wipro', 'com', 'react', 'built', 'redux', 'github', 'list']\n",
      "\n",
      "\n",
      "\n",
      "\n",
      "THE TOP 15 WORDS FOR TOPIC #11\n",
      "['static', 'stlc', 'cyber', 'best', 'adhoc', 'birth', 'understanding', 'skills', 'triage', 'telugu', 'reddy', 'concepts', 'functional', 'integration', 'training', 'normalization', 'traffic', 'com', 'scrum', '100', 'certified', '200', 'method', 'cases', 'test', 'identified', 'meeting', 'testing', 'good', 'knowledge']\n",
      "\n",
      "\n",
      "\n",
      "\n",
      "THE TOP 15 WORDS FOR TOPIC #12\n",
      "['facing', 'emerging', 'addressing', 'stake', 'adopting', 'ecma', 'proactive', 'principles', 'signup', 'holders', 'end', 'title', 'management', 'proficiency', 'construction', 'creations', 'ui', 'use', 'menu', 'css3', 'reactjs', 'hooks', 'libraries', 'metrolabs', 'developer', 'organizer', 'application', 'js', 'react', 'javascript']\n",
      "\n",
      "\n",
      "\n",
      "\n",
      "THE TOP 15 WORDS FOR TOPIC #13\n",
      "['communication', 'rising', 'leadership', 'singing', 'star', 'axa', 'worked', 'sql', 'accounts', 'book', '2021', 'peoplesoft', 'institute', 'directly', 'team', '2020', 'basic', 'service', 'stack', 'successfully', 'capgemini', 'technology', 'learning', 'japanese', 'java', 'bi', 'finance', 'award', 'power', 'customer']\n",
      "\n",
      "\n",
      "\n",
      "\n",
      "THE TOP 15 WORDS FOR TOPIC #14\n",
      "['online', 'websites', 'role', 'hyderabad', 'development', 'team', 'responsible', 'work', 'description', 'technologies', 'customers', 'android', 'responsive', 'design', 'project', 'designing', 'css', 'services', 'using', 'mobile', 'js', 'bootstrap', 'react', 'javascript', 'jquery', 'html', 'html5', 'css3', 'web', 'ui']\n",
      "\n",
      "\n",
      "\n",
      "\n"
     ]
    }
   ],
   "source": [
    "for i,topic in enumerate(nmf_model.components_):\n",
    "    print(f\"THE TOP 15 WORDS FOR TOPIC #{i}\")\n",
    "    print([tfidf.get_feature_names()[index] for index in topic.argsort()[-30:]])\n",
    "    print('\\n')\n",
    "    print('\\n')"
   ]
  },
  {
   "cell_type": "code",
   "execution_count": 25,
   "metadata": {
    "colab": {
     "base_uri": "https://localhost:8080/"
    },
    "executionInfo": {
     "elapsed": 17,
     "status": "ok",
     "timestamp": 1667402302838,
     "user": {
      "displayName": "Veeraj B",
      "userId": "00452043461591096215"
     },
     "user_tz": -330
    },
    "id": "5V_bHhDa69kY",
    "outputId": "0cbb6a7d-0abe-4e3b-a522-c044c7f200b2"
   },
   "outputs": [
    {
     "data": {
      "text/plain": [
       "<79x2199 sparse matrix of type '<class 'numpy.float64'>'\n",
       "\twith 17312 stored elements in Compressed Sparse Row format>"
      ]
     },
     "execution_count": 25,
     "metadata": {},
     "output_type": "execute_result"
    }
   ],
   "source": [
    "dtm"
   ]
  },
  {
   "cell_type": "code",
   "execution_count": 26,
   "metadata": {
    "executionInfo": {
     "elapsed": 1033,
     "status": "ok",
     "timestamp": 1667402310633,
     "user": {
      "displayName": "Veeraj B",
      "userId": "00452043461591096215"
     },
     "user_tz": -330
    },
    "id": "5SmGhRNL7ABt"
   },
   "outputs": [],
   "source": [
    "nmf_final_model = nmf_model.transform(dtm)"
   ]
  },
  {
   "cell_type": "code",
   "execution_count": 27,
   "metadata": {
    "colab": {
     "base_uri": "https://localhost:8080/"
    },
    "executionInfo": {
     "elapsed": 15,
     "status": "ok",
     "timestamp": 1667402317178,
     "user": {
      "displayName": "Veeraj B",
      "userId": "00452043461591096215"
     },
     "user_tz": -330
    },
    "id": "apEUpjnl7B00",
    "outputId": "51f5eb14-2216-46fb-848a-7ccadddd4e20"
   },
   "outputs": [
    {
     "data": {
      "text/plain": [
       "array([ 3, 13, 13,  2,  0,  9,  6,  2,  0, 14,  2,  2, 14,  1, 11,  0,  0,\n",
       "        6,  9,  3,  5,  6,  4,  1,  1,  3,  3,  1,  3,  6,  4,  3, 14, 14,\n",
       "        0,  0,  8, 14,  7,  5,  1, 14,  6, 12,  3,  0, 10,  3,  0,  2,  7,\n",
       "        7, 13,  3,  0,  1,  3,  0,  1,  9,  0,  1,  8,  1,  7,  1,  7,  0,\n",
       "        0,  0,  0,  1,  8,  8, 12, 14,  8,  7, 14])"
      ]
     },
     "execution_count": 27,
     "metadata": {},
     "output_type": "execute_result"
    }
   ],
   "source": [
    "nmf_final_model.argmax(axis=1)"
   ]
  },
  {
   "cell_type": "code",
   "execution_count": 28,
   "metadata": {
    "executionInfo": {
     "elapsed": 3,
     "status": "ok",
     "timestamp": 1667402324376,
     "user": {
      "displayName": "Veeraj B",
      "userId": "00452043461591096215"
     },
     "user_tz": -330
    },
    "id": "-XfdZS_N7DZs"
   },
   "outputs": [],
   "source": [
    "df['Role']=nmf_final_model.argmax(axis=1)"
   ]
  },
  {
   "cell_type": "code",
   "execution_count": 29,
   "metadata": {
    "colab": {
     "base_uri": "https://localhost:8080/",
     "height": 424
    },
    "executionInfo": {
     "elapsed": 9,
     "status": "ok",
     "timestamp": 1667402330537,
     "user": {
      "displayName": "Veeraj B",
      "userId": "00452043461591096215"
     },
     "user_tz": -330
    },
    "id": "dTpoh6eb7E_T",
    "outputId": "dcf2fe01-955b-458b-9dd2-73407df19f0d"
   },
   "outputs": [
    {
     "data": {
      "text/html": [
       "\n",
       "  <div id=\"df-206ab482-d494-4e15-8fb1-02890e0aa53b\">\n",
       "    <div class=\"colab-df-container\">\n",
       "      <div>\n",
       "<style scoped>\n",
       "    .dataframe tbody tr th:only-of-type {\n",
       "        vertical-align: middle;\n",
       "    }\n",
       "\n",
       "    .dataframe tbody tr th {\n",
       "        vertical-align: top;\n",
       "    }\n",
       "\n",
       "    .dataframe thead th {\n",
       "        text-align: right;\n",
       "    }\n",
       "</style>\n",
       "<table border=\"1\" class=\"dataframe\">\n",
       "  <thead>\n",
       "    <tr style=\"text-align: right;\">\n",
       "      <th></th>\n",
       "      <th>NAME</th>\n",
       "      <th>Skills</th>\n",
       "      <th>Role</th>\n",
       "    </tr>\n",
       "  </thead>\n",
       "  <tbody>\n",
       "    <tr>\n",
       "      <th>0</th>\n",
       "      <td>Neeraj Mishra.docx</td>\n",
       "      <td>Resu...</td>\n",
       "      <td>3</td>\n",
       "    </tr>\n",
       "    <tr>\n",
       "      <th>1</th>\n",
       "      <td>Resume_Subha Santosh_Peoplesoft FSCM.docx</td>\n",
       "      <td>C O N T A C T : Address: Manyata Tech Park, Na...</td>\n",
       "      <td>13</td>\n",
       "    </tr>\n",
       "    <tr>\n",
       "      <th>2</th>\n",
       "      <td>React Developer_Naveen sadhu.docx</td>\n",
       "      <td>Naveen Sadhu Title: software developer\\t\\t\\t\\t...</td>\n",
       "      <td>13</td>\n",
       "    </tr>\n",
       "    <tr>\n",
       "      <th>3</th>\n",
       "      <td>Reactjs Developer_Pranish Sonone_Musquare Tech...</td>\n",
       "      <td>Pranish Sonone \\t Career summary: Experience o...</td>\n",
       "      <td>2</td>\n",
       "    </tr>\n",
       "    <tr>\n",
       "      <th>4</th>\n",
       "      <td>Gopi Krishna_Hexaware.docx</td>\n",
       "      <td>\\t Name         : Gopi Krishna Reddy \\t\\t     ...</td>\n",
       "      <td>0</td>\n",
       "    </tr>\n",
       "    <tr>\n",
       "      <th>...</th>\n",
       "      <td>...</td>\n",
       "      <td>...</td>\n",
       "      <td>...</td>\n",
       "    </tr>\n",
       "    <tr>\n",
       "      <th>74</th>\n",
       "      <td>React Developer_Vinay Reddy.doc</td>\n",
       "      <td>Maryala Vinay Reddy Professional Summary: · Ha...</td>\n",
       "      <td>12</td>\n",
       "    </tr>\n",
       "    <tr>\n",
       "      <th>75</th>\n",
       "      <td>React JS Developer_AnjaniPriyadarshini.doc</td>\n",
       "      <td>Deepchand CURRICULUM VITAE Anjani Priyadarshin...</td>\n",
       "      <td>14</td>\n",
       "    </tr>\n",
       "    <tr>\n",
       "      <th>76</th>\n",
       "      <td>Peoplesoft Finance_Rahul Ahuja.doc</td>\n",
       "      <td>Rahul Ahuja ----------------------------------...</td>\n",
       "      <td>8</td>\n",
       "    </tr>\n",
       "    <tr>\n",
       "      <th>77</th>\n",
       "      <td>Hari Krishna M_Hexaware.doc</td>\n",
       "      <td>Hari Krishna M Summary: · A result oriented pr...</td>\n",
       "      <td>7</td>\n",
       "    </tr>\n",
       "    <tr>\n",
       "      <th>78</th>\n",
       "      <td>Reactjs Developer_Prabakaran_Musquare Technolo...</td>\n",
       "      <td>Page | 1 Name: M. Prabakaran Title: UI Develop...</td>\n",
       "      <td>14</td>\n",
       "    </tr>\n",
       "  </tbody>\n",
       "</table>\n",
       "<p>79 rows × 3 columns</p>\n",
       "</div>\n",
       "      <button class=\"colab-df-convert\" onclick=\"convertToInteractive('df-206ab482-d494-4e15-8fb1-02890e0aa53b')\"\n",
       "              title=\"Convert this dataframe to an interactive table.\"\n",
       "              style=\"display:none;\">\n",
       "        \n",
       "  <svg xmlns=\"http://www.w3.org/2000/svg\" height=\"24px\"viewBox=\"0 0 24 24\"\n",
       "       width=\"24px\">\n",
       "    <path d=\"M0 0h24v24H0V0z\" fill=\"none\"/>\n",
       "    <path d=\"M18.56 5.44l.94 2.06.94-2.06 2.06-.94-2.06-.94-.94-2.06-.94 2.06-2.06.94zm-11 1L8.5 8.5l.94-2.06 2.06-.94-2.06-.94L8.5 2.5l-.94 2.06-2.06.94zm10 10l.94 2.06.94-2.06 2.06-.94-2.06-.94-.94-2.06-.94 2.06-2.06.94z\"/><path d=\"M17.41 7.96l-1.37-1.37c-.4-.4-.92-.59-1.43-.59-.52 0-1.04.2-1.43.59L10.3 9.45l-7.72 7.72c-.78.78-.78 2.05 0 2.83L4 21.41c.39.39.9.59 1.41.59.51 0 1.02-.2 1.41-.59l7.78-7.78 2.81-2.81c.8-.78.8-2.07 0-2.86zM5.41 20L4 18.59l7.72-7.72 1.47 1.35L5.41 20z\"/>\n",
       "  </svg>\n",
       "      </button>\n",
       "      \n",
       "  <style>\n",
       "    .colab-df-container {\n",
       "      display:flex;\n",
       "      flex-wrap:wrap;\n",
       "      gap: 12px;\n",
       "    }\n",
       "\n",
       "    .colab-df-convert {\n",
       "      background-color: #E8F0FE;\n",
       "      border: none;\n",
       "      border-radius: 50%;\n",
       "      cursor: pointer;\n",
       "      display: none;\n",
       "      fill: #1967D2;\n",
       "      height: 32px;\n",
       "      padding: 0 0 0 0;\n",
       "      width: 32px;\n",
       "    }\n",
       "\n",
       "    .colab-df-convert:hover {\n",
       "      background-color: #E2EBFA;\n",
       "      box-shadow: 0px 1px 2px rgba(60, 64, 67, 0.3), 0px 1px 3px 1px rgba(60, 64, 67, 0.15);\n",
       "      fill: #174EA6;\n",
       "    }\n",
       "\n",
       "    [theme=dark] .colab-df-convert {\n",
       "      background-color: #3B4455;\n",
       "      fill: #D2E3FC;\n",
       "    }\n",
       "\n",
       "    [theme=dark] .colab-df-convert:hover {\n",
       "      background-color: #434B5C;\n",
       "      box-shadow: 0px 1px 3px 1px rgba(0, 0, 0, 0.15);\n",
       "      filter: drop-shadow(0px 1px 2px rgba(0, 0, 0, 0.3));\n",
       "      fill: #FFFFFF;\n",
       "    }\n",
       "  </style>\n",
       "\n",
       "      <script>\n",
       "        const buttonEl =\n",
       "          document.querySelector('#df-206ab482-d494-4e15-8fb1-02890e0aa53b button.colab-df-convert');\n",
       "        buttonEl.style.display =\n",
       "          google.colab.kernel.accessAllowed ? 'block' : 'none';\n",
       "\n",
       "        async function convertToInteractive(key) {\n",
       "          const element = document.querySelector('#df-206ab482-d494-4e15-8fb1-02890e0aa53b');\n",
       "          const dataTable =\n",
       "            await google.colab.kernel.invokeFunction('convertToInteractive',\n",
       "                                                     [key], {});\n",
       "          if (!dataTable) return;\n",
       "\n",
       "          const docLinkHtml = 'Like what you see? Visit the ' +\n",
       "            '<a target=\"_blank\" href=https://colab.research.google.com/notebooks/data_table.ipynb>data table notebook</a>'\n",
       "            + ' to learn more about interactive tables.';\n",
       "          element.innerHTML = '';\n",
       "          dataTable['output_type'] = 'display_data';\n",
       "          await google.colab.output.renderOutput(dataTable, element);\n",
       "          const docLink = document.createElement('div');\n",
       "          docLink.innerHTML = docLinkHtml;\n",
       "          element.appendChild(docLink);\n",
       "        }\n",
       "      </script>\n",
       "    </div>\n",
       "  </div>\n",
       "  "
      ],
      "text/plain": [
       "                                                 NAME  \\\n",
       "0                                  Neeraj Mishra.docx   \n",
       "1           Resume_Subha Santosh_Peoplesoft FSCM.docx   \n",
       "2                   React Developer_Naveen sadhu.docx   \n",
       "3   Reactjs Developer_Pranish Sonone_Musquare Tech...   \n",
       "4                          Gopi Krishna_Hexaware.docx   \n",
       "..                                                ...   \n",
       "74                    React Developer_Vinay Reddy.doc   \n",
       "75         React JS Developer_AnjaniPriyadarshini.doc   \n",
       "76                 Peoplesoft Finance_Rahul Ahuja.doc   \n",
       "77                        Hari Krishna M_Hexaware.doc   \n",
       "78  Reactjs Developer_Prabakaran_Musquare Technolo...   \n",
       "\n",
       "                                               Skills  Role  \n",
       "0                                             Resu...     3  \n",
       "1   C O N T A C T : Address: Manyata Tech Park, Na...    13  \n",
       "2   Naveen Sadhu Title: software developer\\t\\t\\t\\t...    13  \n",
       "3   Pranish Sonone \\t Career summary: Experience o...     2  \n",
       "4   \\t Name         : Gopi Krishna Reddy \\t\\t     ...     0  \n",
       "..                                                ...   ...  \n",
       "74  Maryala Vinay Reddy Professional Summary: · Ha...    12  \n",
       "75  Deepchand CURRICULUM VITAE Anjani Priyadarshin...    14  \n",
       "76  Rahul Ahuja ----------------------------------...     8  \n",
       "77  Hari Krishna M Summary: · A result oriented pr...     7  \n",
       "78  Page | 1 Name: M. Prabakaran Title: UI Develop...    14  \n",
       "\n",
       "[79 rows x 3 columns]"
      ]
     },
     "execution_count": 29,
     "metadata": {},
     "output_type": "execute_result"
    }
   ],
   "source": [
    "df"
   ]
  },
  {
   "cell_type": "code",
   "execution_count": 30,
   "metadata": {
    "colab": {
     "base_uri": "https://localhost:8080/"
    },
    "executionInfo": {
     "elapsed": 16,
     "status": "ok",
     "timestamp": 1667402360389,
     "user": {
      "displayName": "Veeraj B",
      "userId": "00452043461591096215"
     },
     "user_tz": -330
    },
    "id": "e1RdncUd7Gq6",
    "outputId": "f16649b8-a8ed-4878-823e-b7c70f61e0ce"
   },
   "outputs": [
    {
     "data": {
      "text/plain": [
       "{1: 'Politics', 2: 'Some other topics'}"
      ]
     },
     "execution_count": 30,
     "metadata": {},
     "output_type": "execute_result"
    }
   ],
   "source": [
    "{1:'Politics',2:'Some other topics'}"
   ]
  },
  {
   "cell_type": "code",
   "execution_count": 31,
   "metadata": {
    "executionInfo": {
     "elapsed": 3,
     "status": "ok",
     "timestamp": 1667402368877,
     "user": {
      "displayName": "Veeraj B",
      "userId": "00452043461591096215"
     },
     "user_tz": -330
    },
    "id": "7EpMim__7OEw"
   },
   "outputs": [],
   "source": [
    "mytopic={0:'Workday',1:'Peoplesoft',2:'Frontend Developer',3:'DBM',4:'Peoplesoft',5:'Frontend Developer',6:'Student',7:'Workday',8:'Peoplesoft',9:'Analyst',10:'Frontend Developer',11:'Frontend Developer',12:'Frontend Developer',13:'Frontend Developer',14:'Analyst'}\n",
    "df['RoleName']= df['Role'].map(mytopic)"
   ]
  },
  {
   "cell_type": "code",
   "execution_count": 32,
   "metadata": {
    "colab": {
     "base_uri": "https://localhost:8080/"
    },
    "executionInfo": {
     "elapsed": 682,
     "status": "ok",
     "timestamp": 1667402389990,
     "user": {
      "displayName": "Veeraj B",
      "userId": "00452043461591096215"
     },
     "user_tz": -330
    },
    "id": "pHbU-PX37QLV",
    "outputId": "a5277fd1-976e-40c2-ba29-1a845a97a8e4"
   },
   "outputs": [
    {
     "data": {
      "text/plain": [
       "array(['DBM', 'Frontend Developer', 'Workday', 'Analyst', 'Student',\n",
       "       'Peoplesoft'], dtype=object)"
      ]
     },
     "execution_count": 32,
     "metadata": {},
     "output_type": "execute_result"
    }
   ],
   "source": [
    "df['RoleName'].unique()"
   ]
  },
  {
   "cell_type": "code",
   "execution_count": 33,
   "metadata": {
    "colab": {
     "base_uri": "https://localhost:8080/",
     "height": 468
    },
    "executionInfo": {
     "elapsed": 507,
     "status": "ok",
     "timestamp": 1667402649445,
     "user": {
      "displayName": "Veeraj B",
      "userId": "00452043461591096215"
     },
     "user_tz": -330
    },
    "id": "zYMDlqCc8T_Q",
    "outputId": "3fcdd602-84e5-412d-8960-0e9149ae7ad5"
   },
   "outputs": [
    {
     "data": {
      "text/html": [
       "\n",
       "  <div id=\"df-13902917-cefa-4ba4-81d2-f02d98079e0c\">\n",
       "    <div class=\"colab-df-container\">\n",
       "      <div>\n",
       "<style scoped>\n",
       "    .dataframe tbody tr th:only-of-type {\n",
       "        vertical-align: middle;\n",
       "    }\n",
       "\n",
       "    .dataframe tbody tr th {\n",
       "        vertical-align: top;\n",
       "    }\n",
       "\n",
       "    .dataframe thead th {\n",
       "        text-align: right;\n",
       "    }\n",
       "</style>\n",
       "<table border=\"1\" class=\"dataframe\">\n",
       "  <thead>\n",
       "    <tr style=\"text-align: right;\">\n",
       "      <th></th>\n",
       "      <th>NAME</th>\n",
       "      <th>Skills</th>\n",
       "      <th>Role</th>\n",
       "      <th>RoleName</th>\n",
       "    </tr>\n",
       "  </thead>\n",
       "  <tbody>\n",
       "    <tr>\n",
       "      <th>0</th>\n",
       "      <td>Neeraj Mishra.docx</td>\n",
       "      <td>Resu...</td>\n",
       "      <td>3</td>\n",
       "      <td>DBM</td>\n",
       "    </tr>\n",
       "    <tr>\n",
       "      <th>1</th>\n",
       "      <td>Resume_Subha Santosh_Peoplesoft FSCM.docx</td>\n",
       "      <td>C O N T A C T : Address: Manyata Tech Park, Na...</td>\n",
       "      <td>13</td>\n",
       "      <td>Frontend Developer</td>\n",
       "    </tr>\n",
       "    <tr>\n",
       "      <th>2</th>\n",
       "      <td>React Developer_Naveen sadhu.docx</td>\n",
       "      <td>Naveen Sadhu Title: software developer\\t\\t\\t\\t...</td>\n",
       "      <td>13</td>\n",
       "      <td>Frontend Developer</td>\n",
       "    </tr>\n",
       "    <tr>\n",
       "      <th>3</th>\n",
       "      <td>Reactjs Developer_Pranish Sonone_Musquare Tech...</td>\n",
       "      <td>Pranish Sonone \\t Career summary: Experience o...</td>\n",
       "      <td>2</td>\n",
       "      <td>Frontend Developer</td>\n",
       "    </tr>\n",
       "    <tr>\n",
       "      <th>4</th>\n",
       "      <td>Gopi Krishna_Hexaware.docx</td>\n",
       "      <td>\\t Name         : Gopi Krishna Reddy \\t\\t     ...</td>\n",
       "      <td>0</td>\n",
       "      <td>Workday</td>\n",
       "    </tr>\n",
       "    <tr>\n",
       "      <th>...</th>\n",
       "      <td>...</td>\n",
       "      <td>...</td>\n",
       "      <td>...</td>\n",
       "      <td>...</td>\n",
       "    </tr>\n",
       "    <tr>\n",
       "      <th>74</th>\n",
       "      <td>React Developer_Vinay Reddy.doc</td>\n",
       "      <td>Maryala Vinay Reddy Professional Summary: · Ha...</td>\n",
       "      <td>12</td>\n",
       "      <td>Frontend Developer</td>\n",
       "    </tr>\n",
       "    <tr>\n",
       "      <th>75</th>\n",
       "      <td>React JS Developer_AnjaniPriyadarshini.doc</td>\n",
       "      <td>Deepchand CURRICULUM VITAE Anjani Priyadarshin...</td>\n",
       "      <td>14</td>\n",
       "      <td>Analyst</td>\n",
       "    </tr>\n",
       "    <tr>\n",
       "      <th>76</th>\n",
       "      <td>Peoplesoft Finance_Rahul Ahuja.doc</td>\n",
       "      <td>Rahul Ahuja ----------------------------------...</td>\n",
       "      <td>8</td>\n",
       "      <td>Peoplesoft</td>\n",
       "    </tr>\n",
       "    <tr>\n",
       "      <th>77</th>\n",
       "      <td>Hari Krishna M_Hexaware.doc</td>\n",
       "      <td>Hari Krishna M Summary: · A result oriented pr...</td>\n",
       "      <td>7</td>\n",
       "      <td>Workday</td>\n",
       "    </tr>\n",
       "    <tr>\n",
       "      <th>78</th>\n",
       "      <td>Reactjs Developer_Prabakaran_Musquare Technolo...</td>\n",
       "      <td>Page | 1 Name: M. Prabakaran Title: UI Develop...</td>\n",
       "      <td>14</td>\n",
       "      <td>Analyst</td>\n",
       "    </tr>\n",
       "  </tbody>\n",
       "</table>\n",
       "<p>79 rows × 4 columns</p>\n",
       "</div>\n",
       "      <button class=\"colab-df-convert\" onclick=\"convertToInteractive('df-13902917-cefa-4ba4-81d2-f02d98079e0c')\"\n",
       "              title=\"Convert this dataframe to an interactive table.\"\n",
       "              style=\"display:none;\">\n",
       "        \n",
       "  <svg xmlns=\"http://www.w3.org/2000/svg\" height=\"24px\"viewBox=\"0 0 24 24\"\n",
       "       width=\"24px\">\n",
       "    <path d=\"M0 0h24v24H0V0z\" fill=\"none\"/>\n",
       "    <path d=\"M18.56 5.44l.94 2.06.94-2.06 2.06-.94-2.06-.94-.94-2.06-.94 2.06-2.06.94zm-11 1L8.5 8.5l.94-2.06 2.06-.94-2.06-.94L8.5 2.5l-.94 2.06-2.06.94zm10 10l.94 2.06.94-2.06 2.06-.94-2.06-.94-.94-2.06-.94 2.06-2.06.94z\"/><path d=\"M17.41 7.96l-1.37-1.37c-.4-.4-.92-.59-1.43-.59-.52 0-1.04.2-1.43.59L10.3 9.45l-7.72 7.72c-.78.78-.78 2.05 0 2.83L4 21.41c.39.39.9.59 1.41.59.51 0 1.02-.2 1.41-.59l7.78-7.78 2.81-2.81c.8-.78.8-2.07 0-2.86zM5.41 20L4 18.59l7.72-7.72 1.47 1.35L5.41 20z\"/>\n",
       "  </svg>\n",
       "      </button>\n",
       "      \n",
       "  <style>\n",
       "    .colab-df-container {\n",
       "      display:flex;\n",
       "      flex-wrap:wrap;\n",
       "      gap: 12px;\n",
       "    }\n",
       "\n",
       "    .colab-df-convert {\n",
       "      background-color: #E8F0FE;\n",
       "      border: none;\n",
       "      border-radius: 50%;\n",
       "      cursor: pointer;\n",
       "      display: none;\n",
       "      fill: #1967D2;\n",
       "      height: 32px;\n",
       "      padding: 0 0 0 0;\n",
       "      width: 32px;\n",
       "    }\n",
       "\n",
       "    .colab-df-convert:hover {\n",
       "      background-color: #E2EBFA;\n",
       "      box-shadow: 0px 1px 2px rgba(60, 64, 67, 0.3), 0px 1px 3px 1px rgba(60, 64, 67, 0.15);\n",
       "      fill: #174EA6;\n",
       "    }\n",
       "\n",
       "    [theme=dark] .colab-df-convert {\n",
       "      background-color: #3B4455;\n",
       "      fill: #D2E3FC;\n",
       "    }\n",
       "\n",
       "    [theme=dark] .colab-df-convert:hover {\n",
       "      background-color: #434B5C;\n",
       "      box-shadow: 0px 1px 3px 1px rgba(0, 0, 0, 0.15);\n",
       "      filter: drop-shadow(0px 1px 2px rgba(0, 0, 0, 0.3));\n",
       "      fill: #FFFFFF;\n",
       "    }\n",
       "  </style>\n",
       "\n",
       "      <script>\n",
       "        const buttonEl =\n",
       "          document.querySelector('#df-13902917-cefa-4ba4-81d2-f02d98079e0c button.colab-df-convert');\n",
       "        buttonEl.style.display =\n",
       "          google.colab.kernel.accessAllowed ? 'block' : 'none';\n",
       "\n",
       "        async function convertToInteractive(key) {\n",
       "          const element = document.querySelector('#df-13902917-cefa-4ba4-81d2-f02d98079e0c');\n",
       "          const dataTable =\n",
       "            await google.colab.kernel.invokeFunction('convertToInteractive',\n",
       "                                                     [key], {});\n",
       "          if (!dataTable) return;\n",
       "\n",
       "          const docLinkHtml = 'Like what you see? Visit the ' +\n",
       "            '<a target=\"_blank\" href=https://colab.research.google.com/notebooks/data_table.ipynb>data table notebook</a>'\n",
       "            + ' to learn more about interactive tables.';\n",
       "          element.innerHTML = '';\n",
       "          dataTable['output_type'] = 'display_data';\n",
       "          await google.colab.output.renderOutput(dataTable, element);\n",
       "          const docLink = document.createElement('div');\n",
       "          docLink.innerHTML = docLinkHtml;\n",
       "          element.appendChild(docLink);\n",
       "        }\n",
       "      </script>\n",
       "    </div>\n",
       "  </div>\n",
       "  "
      ],
      "text/plain": [
       "                                                 NAME  \\\n",
       "0                                  Neeraj Mishra.docx   \n",
       "1           Resume_Subha Santosh_Peoplesoft FSCM.docx   \n",
       "2                   React Developer_Naveen sadhu.docx   \n",
       "3   Reactjs Developer_Pranish Sonone_Musquare Tech...   \n",
       "4                          Gopi Krishna_Hexaware.docx   \n",
       "..                                                ...   \n",
       "74                    React Developer_Vinay Reddy.doc   \n",
       "75         React JS Developer_AnjaniPriyadarshini.doc   \n",
       "76                 Peoplesoft Finance_Rahul Ahuja.doc   \n",
       "77                        Hari Krishna M_Hexaware.doc   \n",
       "78  Reactjs Developer_Prabakaran_Musquare Technolo...   \n",
       "\n",
       "                                               Skills  Role  \\\n",
       "0                                             Resu...     3   \n",
       "1   C O N T A C T : Address: Manyata Tech Park, Na...    13   \n",
       "2   Naveen Sadhu Title: software developer\\t\\t\\t\\t...    13   \n",
       "3   Pranish Sonone \\t Career summary: Experience o...     2   \n",
       "4   \\t Name         : Gopi Krishna Reddy \\t\\t     ...     0   \n",
       "..                                                ...   ...   \n",
       "74  Maryala Vinay Reddy Professional Summary: · Ha...    12   \n",
       "75  Deepchand CURRICULUM VITAE Anjani Priyadarshin...    14   \n",
       "76  Rahul Ahuja ----------------------------------...     8   \n",
       "77  Hari Krishna M Summary: · A result oriented pr...     7   \n",
       "78  Page | 1 Name: M. Prabakaran Title: UI Develop...    14   \n",
       "\n",
       "              RoleName  \n",
       "0                  DBM  \n",
       "1   Frontend Developer  \n",
       "2   Frontend Developer  \n",
       "3   Frontend Developer  \n",
       "4              Workday  \n",
       "..                 ...  \n",
       "74  Frontend Developer  \n",
       "75             Analyst  \n",
       "76          Peoplesoft  \n",
       "77             Workday  \n",
       "78             Analyst  \n",
       "\n",
       "[79 rows x 4 columns]"
      ]
     },
     "execution_count": 33,
     "metadata": {},
     "output_type": "execute_result"
    }
   ],
   "source": [
    "df"
   ]
  },
  {
   "cell_type": "code",
   "execution_count": 34,
   "metadata": {
    "colab": {
     "base_uri": "https://localhost:8080/",
     "height": 424
    },
    "executionInfo": {
     "elapsed": 439,
     "status": "ok",
     "timestamp": 1667402696333,
     "user": {
      "displayName": "Veeraj B",
      "userId": "00452043461591096215"
     },
     "user_tz": -330
    },
    "id": "7pM3wXNH7VHL",
    "outputId": "bb37a6ba-b88d-4b99-92a3-95130706aa90"
   },
   "outputs": [
    {
     "data": {
      "text/html": [
       "\n",
       "  <div id=\"df-9a5201e4-96c1-465b-bc6b-cc3d462fc0d3\">\n",
       "    <div class=\"colab-df-container\">\n",
       "      <div>\n",
       "<style scoped>\n",
       "    .dataframe tbody tr th:only-of-type {\n",
       "        vertical-align: middle;\n",
       "    }\n",
       "\n",
       "    .dataframe tbody tr th {\n",
       "        vertical-align: top;\n",
       "    }\n",
       "\n",
       "    .dataframe thead th {\n",
       "        text-align: right;\n",
       "    }\n",
       "</style>\n",
       "<table border=\"1\" class=\"dataframe\">\n",
       "  <thead>\n",
       "    <tr style=\"text-align: right;\">\n",
       "      <th></th>\n",
       "      <th>Skills</th>\n",
       "      <th>RoleName</th>\n",
       "    </tr>\n",
       "  </thead>\n",
       "  <tbody>\n",
       "    <tr>\n",
       "      <th>0</th>\n",
       "      <td>Resu...</td>\n",
       "      <td>DBM</td>\n",
       "    </tr>\n",
       "    <tr>\n",
       "      <th>1</th>\n",
       "      <td>C O N T A C T : Address: Manyata Tech Park, Na...</td>\n",
       "      <td>Frontend Developer</td>\n",
       "    </tr>\n",
       "    <tr>\n",
       "      <th>2</th>\n",
       "      <td>Naveen Sadhu Title: software developer\\t\\t\\t\\t...</td>\n",
       "      <td>Frontend Developer</td>\n",
       "    </tr>\n",
       "    <tr>\n",
       "      <th>3</th>\n",
       "      <td>Pranish Sonone \\t Career summary: Experience o...</td>\n",
       "      <td>Frontend Developer</td>\n",
       "    </tr>\n",
       "    <tr>\n",
       "      <th>4</th>\n",
       "      <td>\\t Name         : Gopi Krishna Reddy \\t\\t     ...</td>\n",
       "      <td>Workday</td>\n",
       "    </tr>\n",
       "    <tr>\n",
       "      <th>...</th>\n",
       "      <td>...</td>\n",
       "      <td>...</td>\n",
       "    </tr>\n",
       "    <tr>\n",
       "      <th>74</th>\n",
       "      <td>Maryala Vinay Reddy Professional Summary: · Ha...</td>\n",
       "      <td>Frontend Developer</td>\n",
       "    </tr>\n",
       "    <tr>\n",
       "      <th>75</th>\n",
       "      <td>Deepchand CURRICULUM VITAE Anjani Priyadarshin...</td>\n",
       "      <td>Analyst</td>\n",
       "    </tr>\n",
       "    <tr>\n",
       "      <th>76</th>\n",
       "      <td>Rahul Ahuja ----------------------------------...</td>\n",
       "      <td>Peoplesoft</td>\n",
       "    </tr>\n",
       "    <tr>\n",
       "      <th>77</th>\n",
       "      <td>Hari Krishna M Summary: · A result oriented pr...</td>\n",
       "      <td>Workday</td>\n",
       "    </tr>\n",
       "    <tr>\n",
       "      <th>78</th>\n",
       "      <td>Page | 1 Name: M. Prabakaran Title: UI Develop...</td>\n",
       "      <td>Analyst</td>\n",
       "    </tr>\n",
       "  </tbody>\n",
       "</table>\n",
       "<p>79 rows × 2 columns</p>\n",
       "</div>\n",
       "      <button class=\"colab-df-convert\" onclick=\"convertToInteractive('df-9a5201e4-96c1-465b-bc6b-cc3d462fc0d3')\"\n",
       "              title=\"Convert this dataframe to an interactive table.\"\n",
       "              style=\"display:none;\">\n",
       "        \n",
       "  <svg xmlns=\"http://www.w3.org/2000/svg\" height=\"24px\"viewBox=\"0 0 24 24\"\n",
       "       width=\"24px\">\n",
       "    <path d=\"M0 0h24v24H0V0z\" fill=\"none\"/>\n",
       "    <path d=\"M18.56 5.44l.94 2.06.94-2.06 2.06-.94-2.06-.94-.94-2.06-.94 2.06-2.06.94zm-11 1L8.5 8.5l.94-2.06 2.06-.94-2.06-.94L8.5 2.5l-.94 2.06-2.06.94zm10 10l.94 2.06.94-2.06 2.06-.94-2.06-.94-.94-2.06-.94 2.06-2.06.94z\"/><path d=\"M17.41 7.96l-1.37-1.37c-.4-.4-.92-.59-1.43-.59-.52 0-1.04.2-1.43.59L10.3 9.45l-7.72 7.72c-.78.78-.78 2.05 0 2.83L4 21.41c.39.39.9.59 1.41.59.51 0 1.02-.2 1.41-.59l7.78-7.78 2.81-2.81c.8-.78.8-2.07 0-2.86zM5.41 20L4 18.59l7.72-7.72 1.47 1.35L5.41 20z\"/>\n",
       "  </svg>\n",
       "      </button>\n",
       "      \n",
       "  <style>\n",
       "    .colab-df-container {\n",
       "      display:flex;\n",
       "      flex-wrap:wrap;\n",
       "      gap: 12px;\n",
       "    }\n",
       "\n",
       "    .colab-df-convert {\n",
       "      background-color: #E8F0FE;\n",
       "      border: none;\n",
       "      border-radius: 50%;\n",
       "      cursor: pointer;\n",
       "      display: none;\n",
       "      fill: #1967D2;\n",
       "      height: 32px;\n",
       "      padding: 0 0 0 0;\n",
       "      width: 32px;\n",
       "    }\n",
       "\n",
       "    .colab-df-convert:hover {\n",
       "      background-color: #E2EBFA;\n",
       "      box-shadow: 0px 1px 2px rgba(60, 64, 67, 0.3), 0px 1px 3px 1px rgba(60, 64, 67, 0.15);\n",
       "      fill: #174EA6;\n",
       "    }\n",
       "\n",
       "    [theme=dark] .colab-df-convert {\n",
       "      background-color: #3B4455;\n",
       "      fill: #D2E3FC;\n",
       "    }\n",
       "\n",
       "    [theme=dark] .colab-df-convert:hover {\n",
       "      background-color: #434B5C;\n",
       "      box-shadow: 0px 1px 3px 1px rgba(0, 0, 0, 0.15);\n",
       "      filter: drop-shadow(0px 1px 2px rgba(0, 0, 0, 0.3));\n",
       "      fill: #FFFFFF;\n",
       "    }\n",
       "  </style>\n",
       "\n",
       "      <script>\n",
       "        const buttonEl =\n",
       "          document.querySelector('#df-9a5201e4-96c1-465b-bc6b-cc3d462fc0d3 button.colab-df-convert');\n",
       "        buttonEl.style.display =\n",
       "          google.colab.kernel.accessAllowed ? 'block' : 'none';\n",
       "\n",
       "        async function convertToInteractive(key) {\n",
       "          const element = document.querySelector('#df-9a5201e4-96c1-465b-bc6b-cc3d462fc0d3');\n",
       "          const dataTable =\n",
       "            await google.colab.kernel.invokeFunction('convertToInteractive',\n",
       "                                                     [key], {});\n",
       "          if (!dataTable) return;\n",
       "\n",
       "          const docLinkHtml = 'Like what you see? Visit the ' +\n",
       "            '<a target=\"_blank\" href=https://colab.research.google.com/notebooks/data_table.ipynb>data table notebook</a>'\n",
       "            + ' to learn more about interactive tables.';\n",
       "          element.innerHTML = '';\n",
       "          dataTable['output_type'] = 'display_data';\n",
       "          await google.colab.output.renderOutput(dataTable, element);\n",
       "          const docLink = document.createElement('div');\n",
       "          docLink.innerHTML = docLinkHtml;\n",
       "          element.appendChild(docLink);\n",
       "        }\n",
       "      </script>\n",
       "    </div>\n",
       "  </div>\n",
       "  "
      ],
      "text/plain": [
       "                                               Skills            RoleName\n",
       "0                                             Resu...                 DBM\n",
       "1   C O N T A C T : Address: Manyata Tech Park, Na...  Frontend Developer\n",
       "2   Naveen Sadhu Title: software developer\\t\\t\\t\\t...  Frontend Developer\n",
       "3   Pranish Sonone \\t Career summary: Experience o...  Frontend Developer\n",
       "4   \\t Name         : Gopi Krishna Reddy \\t\\t     ...             Workday\n",
       "..                                                ...                 ...\n",
       "74  Maryala Vinay Reddy Professional Summary: · Ha...  Frontend Developer\n",
       "75  Deepchand CURRICULUM VITAE Anjani Priyadarshin...             Analyst\n",
       "76  Rahul Ahuja ----------------------------------...          Peoplesoft\n",
       "77  Hari Krishna M Summary: · A result oriented pr...             Workday\n",
       "78  Page | 1 Name: M. Prabakaran Title: UI Develop...             Analyst\n",
       "\n",
       "[79 rows x 2 columns]"
      ]
     },
     "execution_count": 34,
     "metadata": {},
     "output_type": "execute_result"
    }
   ],
   "source": [
    "resumes = df[['Skills','RoleName']]\n",
    "resumes"
   ]
  },
  {
   "cell_type": "code",
   "execution_count": 35,
   "metadata": {
    "executionInfo": {
     "elapsed": 870,
     "status": "ok",
     "timestamp": 1667402900321,
     "user": {
      "displayName": "Veeraj B",
      "userId": "00452043461591096215"
     },
     "user_tz": -330
    },
    "id": "Pg20e3f08f70"
   },
   "outputs": [],
   "source": [
    "resumes.to_csv('resumes.csv', index = False)"
   ]
  },
  {
   "cell_type": "code",
   "execution_count": null,
   "metadata": {
    "id": "qX5wLDEV9RtU"
   },
   "outputs": [],
   "source": []
  }
 ],
 "metadata": {
  "colab": {
   "authorship_tag": "ABX9TyM70XB2iTx8q+zJEIWjWBp1",
   "provenance": []
  },
  "kernelspec": {
   "display_name": "Python 3 (ipykernel)",
   "language": "python",
   "name": "python3"
  },
  "language_info": {
   "codemirror_mode": {
    "name": "ipython",
    "version": 3
   },
   "file_extension": ".py",
   "mimetype": "text/x-python",
   "name": "python",
   "nbconvert_exporter": "python",
   "pygments_lexer": "ipython3",
   "version": "3.9.7"
  }
 },
 "nbformat": 4,
 "nbformat_minor": 1
}
